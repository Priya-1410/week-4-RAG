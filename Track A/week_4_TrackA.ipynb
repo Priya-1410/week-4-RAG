{
  "nbformat": 4,
  "nbformat_minor": 0,
  "metadata": {
    "colab": {
      "provenance": []
    },
    "kernelspec": {
      "name": "python3",
      "display_name": "Python 3"
    },
    "language_info": {
      "name": "python"
    }
  },
  "cells": [
    {
      "cell_type": "code",
      "execution_count": null,
      "metadata": {
        "id": "zldDsUUaMejN"
      },
      "outputs": [],
      "source": []
    },
    {
      "cell_type": "markdown",
      "metadata": {
        "id": "a956e750"
      },
      "source": [
        "# 🔎 Hands-On: Retrieval-Augmented Generation (RAG) with LangChain + Chroma\n",
        "\n",
        "**Last updated:** 2025-09-08 23:15\n",
        "\n",
        "**Why this topic?**\n",
        "- Bridges the gap between *playing with LLMs* and building **end-to-end applications**.\n",
        "- Introduces **retrieval pipelines, embeddings, and vector databases**.\n",
        "- **LangChain (or LlamaIndex)** orchestrates these components in a reproducible workflow.\n",
        "\n",
        "**Agenda (45–60 min)**\n",
        "1. Intro: Why RAG? Reducing hallucinations by grounding in data\n",
        "2. Install & Setup\n",
        "3. Load & Chunk Documents\n",
        "4. Store/Retrieve with Chroma\n",
        "5. Connect an LLM (HF or OpenAI)\n",
        "6. Pipeline test (ask Qs about docs)\n",
        "7. Mini-experiments: embedding swap, chunk size sensitivity\n",
        "8. Log reproducibility\n",
        "9. Wrap-up tasks"
      ]
    },
    {
      "cell_type": "code",
      "execution_count": null,
      "metadata": {
        "id": "4204eebe"
      },
      "outputs": [],
      "source": [
        "# Install dependencies\n",
        "!pip -q install -U langchain langchain-community chromadb sentence-transformers pypdf transformers accelerate\n",
        "# Optional OpenAI\n",
        "# %pip -q install -U openai tiktoken langchain-openai"
      ]
    },
    {
      "cell_type": "code",
      "execution_count": null,
      "metadata": {
        "colab": {
          "base_uri": "https://localhost:8080/"
        },
        "id": "6a3a39cd",
        "outputId": "b3a09780-1239-4626-fa7d-3320fc5afc56"
      },
      "outputs": [
        {
          "output_type": "stream",
          "name": "stdout",
          "text": [
            "{\n",
            "  \"python\": \"3.12.11 (main, Jun  4 2025, 08:56:18) [GCC 11.4.0]\",\n",
            "  \"platform\": \"Linux-6.1.123+-x86_64-with-glibc2.35\",\n",
            "  \"torch\": \"2.8.0+cu126\",\n",
            "  \"cuda\": true,\n",
            "  \"device\": \"Tesla T4\",\n",
            "  \"transformers\": \"4.56.1\",\n",
            "  \"sentence_transformers\": \"5.1.0\",\n",
            "  \"chromadb\": \"1.1.0\"\n",
            "}\n"
          ]
        }
      ],
      "source": [
        "import json, sys, platform, os, chromadb, transformers, sentence_transformers\n",
        "try:\n",
        "    import torch\n",
        "    torch_v = torch.__version__\n",
        "    cuda_ok = torch.cuda.is_available()\n",
        "    device_name = torch.cuda.get_device_name(0) if cuda_ok else \"CPU\"\n",
        "except:\n",
        "    torch_v, cuda_ok, device_name = \"N/A\", False, \"CPU\"\n",
        "\n",
        "env = {\n",
        "    \"python\": sys.version,\n",
        "    \"platform\": platform.platform(),\n",
        "    \"torch\": torch_v,\n",
        "    \"cuda\": cuda_ok,\n",
        "    \"device\": device_name,\n",
        "    \"transformers\": transformers.__version__,\n",
        "    \"sentence_transformers\": sentence_transformers.__version__,\n",
        "    \"chromadb\": chromadb.__version__\n",
        "}\n",
        "print(json.dumps(env, indent=2))\n",
        "with open(\"env_rag.json\",\"w\") as f: json.dump(env, f, indent=2)"
      ]
    },
    {
      "cell_type": "code",
      "execution_count": null,
      "metadata": {
        "colab": {
          "base_uri": "https://localhost:8080/"
        },
        "id": "ad4d84ff",
        "outputId": "5b813a7f-ee66-4c42-cf64-c473599a2e07"
      },
      "outputs": [
        {
          "output_type": "stream",
          "name": "stderr",
          "text": [
            "WARNING:pypdf._reader:Ignoring wrong pointing object 6 0 (offset 0)\n",
            "WARNING:pypdf._reader:Ignoring wrong pointing object 8 0 (offset 0)\n",
            "WARNING:pypdf._reader:Ignoring wrong pointing object 10 0 (offset 0)\n",
            "WARNING:pypdf._reader:Ignoring wrong pointing object 16 0 (offset 0)\n",
            "WARNING:pypdf._reader:Ignoring wrong pointing object 21 0 (offset 0)\n",
            "WARNING:pypdf._reader:Ignoring wrong pointing object 23 0 (offset 0)\n",
            "WARNING:pypdf._reader:Ignoring wrong pointing object 25 0 (offset 0)\n",
            "WARNING:pypdf._reader:Ignoring wrong pointing object 33 0 (offset 0)\n",
            "WARNING:pypdf._reader:Ignoring wrong pointing object 35 0 (offset 0)\n",
            "WARNING:pypdf._reader:Ignoring wrong pointing object 47 0 (offset 0)\n",
            "WARNING:pypdf._reader:Ignoring wrong pointing object 49 0 (offset 0)\n",
            "WARNING:pypdf._reader:Ignoring wrong pointing object 114 0 (offset 0)\n",
            "WARNING:pypdf._reader:Ignoring wrong pointing object 123 0 (offset 0)\n"
          ]
        },
        {
          "output_type": "stream",
          "name": "stdout",
          "text": [
            "Loaded pages: 97\n"
          ]
        }
      ],
      "source": [
        "from langchain_community.document_loaders import PyPDFLoader\n",
        "\n",
        "docs = []\n",
        "for pdf in [\"/content/paper1.pdf\", \"/content/paper2.pdf\", \"/content/paper3.pdf\"]:\n",
        "    loader = PyPDFLoader(pdf)\n",
        "    docs.extend(loader.load())  # add all pages from each PDF\n",
        "\n",
        "print(\"Loaded pages:\", len(docs))\n"
      ]
    },
    {
      "cell_type": "code",
      "execution_count": null,
      "metadata": {
        "colab": {
          "base_uri": "https://localhost:8080/"
        },
        "id": "5256b055",
        "outputId": "e6422ba5-8312-4017-f441-5fa0a41a1d96"
      },
      "outputs": [
        {
          "output_type": "stream",
          "name": "stdout",
          "text": [
            "Chunks: 667\n",
            "First chunk:\n",
            " When AI Meets Finance (StockAgent): Large Language\n",
            "Model-based Stock Trading in Simulated Real-world\n",
            "Environments\n",
            "CHONG ZHANG∗, University of Liverpool, UK\n",
            "XINYI LIU∗, Peking University, China\n",
            "ZHONGMOU ZHANG∗, Shanghai University of Finance and Economics, China\n",
            "MINGYU JIN, Rutgers University, USA\n",
            "LI\n"
          ]
        }
      ],
      "source": [
        "from langchain_community.document_loaders import TextLoader\n",
        "from langchain.text_splitter import RecursiveCharacterTextSplitter\n",
        "from pathlib import Path\n",
        "\n",
        "\n",
        "splitter = RecursiveCharacterTextSplitter(chunk_size=500, chunk_overlap=100)\n",
        "chunks = splitter.split_documents(docs)\n",
        "print(\"Chunks:\", len(chunks))\n",
        "print(\"First chunk:\\n\", chunks[0].page_content[:300])"
      ]
    },
    {
      "cell_type": "code",
      "execution_count": null,
      "metadata": {
        "colab": {
          "base_uri": "https://localhost:8080/",
          "height": 550,
          "referenced_widgets": [
            "f7661ea8ed0a402183b47f31643a7db3",
            "c9492d9bb1b943c28e6fce78de6baa66",
            "32bc12b7cb8c45188d78fb7c8e3c526c",
            "f40418e5a3ec46749ad84ece92d338fb",
            "ac934a291c3448dd891257ed6589888a",
            "c7bc249cc22941b9b097c7496c2f6ce0",
            "ea4daac7849c4fa6bbd1c0f9ea381feb",
            "bb04c7f9b48d46e091d4003e947043b4",
            "802595def37d40d0a1c99175a99b0dcb",
            "1e08d64ee77442ceb512ba4db61d2be2",
            "be16d1894a274f99880f51e651cd4e98",
            "ffe2e65f083646819739ab8ceba5c65e",
            "76c925a3ec2347d8922a95ddfce36c69",
            "d74d136532b440afb7cf552672d7d0a4",
            "49774664c28649bea92f63bd0201ad59",
            "f020e9d1b5dc48a2bf1654d977e16c30",
            "b67414c1e2da4b6f829dde2017851a16",
            "5b6a2becf37e41df8c0f8635df50e426",
            "d7744ca3546843d58d613d8f241d9dc4",
            "45154caeee9d418eaf59580a17c802f9",
            "6fe1d2ecf1084c19af7dd7783e733389",
            "4b61cbceffbb45d89faa8d801da8c7df",
            "4f3e389d87c84a888d72476e2b9121e3",
            "176c2f78cae948da894ec5c532412eb3",
            "58f47afc53e74db789dad21b9c91a7f2",
            "241284ae469f4e069c82516c5359c7b5",
            "c1917a9a7c8e4f07bf9b694909a3b5b3",
            "9e0ae7456aa043128706f2ec2dd19f5e",
            "f96cea3f82974b32a0a558600fd8556c",
            "92914c28aa8445a68bcdc50abeef4414",
            "34e0f86ce48045b78d721c7aca614f52",
            "e666a41d48c94719819d11878ecb144b",
            "2c077f5d18004636a99651a1510f5b28",
            "2c6ba6bf25d3403e9be4a01c6ce9aa03",
            "15304c829dce4ea092b736e67f308f90",
            "d388f7fb14f444fa88905314a984d6e5",
            "68bec0a0f0fd4689b4d652b48c9e9964",
            "d3e4bb1e4ccb4904a2cafd2d5909fe13",
            "aae48188102f486cbe78f8b45e74fcb0",
            "815aa8cb0ba24616ae8fe767c322a585",
            "bd73e9d41b3942a483d29b2403832556",
            "efca00426f174d0da4828d9a63a25488",
            "fda87dc7c32d46288806c940ce2a043b",
            "080c218eac5c43ceb46f2575ee6d113a",
            "1d2ff6bc7c6d4893a555554a361bcf60",
            "6601b7fba7424e66bbb1b4d11eac5e3e",
            "ccbb3394cfad466587f04cc359823deb",
            "cb0cac9097894aaeb5deb4908cd55584",
            "8d50cbb0fb5f43aca9007501cbf1db21",
            "dceb597d98d7421b823c6547708285e7",
            "92916d414dd543f1a9526120fc563af3",
            "de8c10afce6948029957ea6c4563a6f5",
            "e311c35313c44a759aca2dff3aaa561d",
            "9cbf98d3163a4d7b84eeaf338a641fc7",
            "215c935c8745415e8854c5a248313020",
            "71a1630b5f13468888fac1026ca5d176",
            "8c748245b3e84a3a96ff46de05d336c3",
            "b4f0a3ad28684595bdb7050d8b6636be",
            "a793c714503c470591a6d84d8a71470d",
            "f586c467040c4cbda51502f1f833ccdb",
            "3de1ea62d4ae47c7a013b7bd4fb2abc6",
            "c18927bfaccf4482a9f9ead2f5a4be26",
            "788da92476f4444eab7972f19424f5c0",
            "ea70042180dc4b65ac3099c3d32e8f1d",
            "9d7666e343464adfaf54c9b9536e4e66",
            "3b5d9fc7f51d4db4bb37b9f5dafcb0e5",
            "7ac2e077e6ff459491844c7c19d46e5a",
            "91e838e87a654c628cd46b9e20f8abab",
            "c07f085a983e4c30a51e856d58357311",
            "a490597d9bf5467eaff58ce24ce35a6d",
            "d81973c8f84744018c6ce6dc875d3f13",
            "8bc22eb9f67a40dd8af813ad6dedec01",
            "689a422a1ed74eb2ad9a6dfd38048746",
            "bd841f898b1645ed8d8c86ea946bd17f",
            "a56219b491464e2d9f17e1f77e08ef10",
            "abaa48b0817f4c909632f80151e5e41d",
            "bfa329231027431c96725fd39a240962",
            "46b44ca37a90479c992ce93b418dc514",
            "ff592d6f8ece4f65adcda218e5835ce2",
            "c2fc98a6e8f244f4ae93972b62b28a68",
            "7d30105ef8c947cda18875eaf36f5f35",
            "5fdf42fb3809478dadd31082a5d3c9eb",
            "139299cb5504416498039a7380c1429c",
            "785cc8251fb040769053feb428d480b3",
            "ea73b2b24d3b4d859f8faa2b845bd823",
            "9f347e77d76140f3bc819f03242af390",
            "45b0a18e4c06482d8d36c647f2bfb2be",
            "7dfa5e0118ed40aca6e46600660db44a",
            "d672236c76344726811065d29ea65b64",
            "c24202af8cb844219b0e2bf94b7772a4",
            "f5bd51836f884812be6e978c88b780ab",
            "9bdf313d9deb46efb20138b997e1fe73",
            "ec140ecb695b45b09ec1c4db40c22d7d",
            "4554ab91b2ac4b349eb86b6c52723610",
            "a80806575edb4f40a00d300958b11689",
            "89234d618a4a472e9a1f316f2f10a4aa",
            "80b60280a35249f8b2437347cd865bed",
            "8fd9a828e3964402909f3e345e37c5d0",
            "9b3bad5f82364c8fa4f058f9e0de491f",
            "d616a6595c8c41b290d9a24ded266f24",
            "799885134e934aa5a6e727e214ef4dd2",
            "a47c4e0dc9214fbe9084000f185dde1a",
            "fbf91e4aec4f4685b4b6f3638b93ea41",
            "df8b32fddfb340a48591f34192d1d362",
            "ec61f29419904de68f113963feccf1b5",
            "33b384f500864814a99c7b7a15252845",
            "e1b2aeda3f7d4f0bb73392c4c7f86707",
            "d06f0ca0671345a2b5a831e1299b57ff",
            "a642647d1100456fafb927aedb862e29",
            "e3e8a3883eb642d6a6d62f8216d7a153",
            "16452c61d524469eb435d95fa947b456",
            "df7450ff294548f39b7b5621ab003587",
            "557a1a99cf3f4268bbb39975d726c3e7",
            "f083839d5d1f4503a77d433900cdf36a",
            "af3b6ecacda04c4a822ff2c548d4eb7d",
            "758ac34c9b9742cab10d4efd13531f1f",
            "7e39d1bcd7df47a39323fea5b6f8c0b2",
            "de3ea2cb5efc43569d80be8d795b5437",
            "9bc67b8a17224c548ba9f2feb3e9d40a",
            "926a3d70770843a8b9f0e07ef8291998",
            "6c3ca383d6e546d3aa8f8cc6c375b3a0"
          ]
        },
        "id": "5e444259",
        "outputId": "65bd62ed-46c2-48db-aea3-ba461708a130"
      },
      "outputs": [
        {
          "output_type": "stream",
          "name": "stderr",
          "text": [
            "/tmp/ipython-input-2748661336.py:4: LangChainDeprecationWarning: The class `HuggingFaceEmbeddings` was deprecated in LangChain 0.2.2 and will be removed in 1.0. An updated version of the class exists in the :class:`~langchain-huggingface package and should be used instead. To use it run `pip install -U :class:`~langchain-huggingface` and import as `from :class:`~langchain_huggingface import HuggingFaceEmbeddings``.\n",
            "  emb = SentenceTransformerEmbeddings(model_name=\"sentence-transformers/all-MiniLM-L6-v2\")\n",
            "/usr/local/lib/python3.12/dist-packages/huggingface_hub/utils/_auth.py:94: UserWarning: \n",
            "The secret `HF_TOKEN` does not exist in your Colab secrets.\n",
            "To authenticate with the Hugging Face Hub, create a token in your settings tab (https://huggingface.co/settings/tokens), set it as secret in your Google Colab and restart your session.\n",
            "You will be able to reuse this secret in all of your notebooks.\n",
            "Please note that authentication is recommended but still optional to access public models or datasets.\n",
            "  warnings.warn(\n"
          ]
        },
        {
          "output_type": "display_data",
          "data": {
            "text/plain": [
              "modules.json:   0%|          | 0.00/349 [00:00<?, ?B/s]"
            ],
            "application/vnd.jupyter.widget-view+json": {
              "version_major": 2,
              "version_minor": 0,
              "model_id": "f7661ea8ed0a402183b47f31643a7db3"
            }
          },
          "metadata": {}
        },
        {
          "output_type": "display_data",
          "data": {
            "text/plain": [
              "config_sentence_transformers.json:   0%|          | 0.00/116 [00:00<?, ?B/s]"
            ],
            "application/vnd.jupyter.widget-view+json": {
              "version_major": 2,
              "version_minor": 0,
              "model_id": "ffe2e65f083646819739ab8ceba5c65e"
            }
          },
          "metadata": {}
        },
        {
          "output_type": "display_data",
          "data": {
            "text/plain": [
              "README.md: 0.00B [00:00, ?B/s]"
            ],
            "application/vnd.jupyter.widget-view+json": {
              "version_major": 2,
              "version_minor": 0,
              "model_id": "4f3e389d87c84a888d72476e2b9121e3"
            }
          },
          "metadata": {}
        },
        {
          "output_type": "display_data",
          "data": {
            "text/plain": [
              "sentence_bert_config.json:   0%|          | 0.00/53.0 [00:00<?, ?B/s]"
            ],
            "application/vnd.jupyter.widget-view+json": {
              "version_major": 2,
              "version_minor": 0,
              "model_id": "2c6ba6bf25d3403e9be4a01c6ce9aa03"
            }
          },
          "metadata": {}
        },
        {
          "output_type": "display_data",
          "data": {
            "text/plain": [
              "config.json:   0%|          | 0.00/612 [00:00<?, ?B/s]"
            ],
            "application/vnd.jupyter.widget-view+json": {
              "version_major": 2,
              "version_minor": 0,
              "model_id": "1d2ff6bc7c6d4893a555554a361bcf60"
            }
          },
          "metadata": {}
        },
        {
          "output_type": "display_data",
          "data": {
            "text/plain": [
              "model.safetensors:   0%|          | 0.00/90.9M [00:00<?, ?B/s]"
            ],
            "application/vnd.jupyter.widget-view+json": {
              "version_major": 2,
              "version_minor": 0,
              "model_id": "71a1630b5f13468888fac1026ca5d176"
            }
          },
          "metadata": {}
        },
        {
          "output_type": "display_data",
          "data": {
            "text/plain": [
              "tokenizer_config.json:   0%|          | 0.00/350 [00:00<?, ?B/s]"
            ],
            "application/vnd.jupyter.widget-view+json": {
              "version_major": 2,
              "version_minor": 0,
              "model_id": "7ac2e077e6ff459491844c7c19d46e5a"
            }
          },
          "metadata": {}
        },
        {
          "output_type": "display_data",
          "data": {
            "text/plain": [
              "vocab.txt: 0.00B [00:00, ?B/s]"
            ],
            "application/vnd.jupyter.widget-view+json": {
              "version_major": 2,
              "version_minor": 0,
              "model_id": "46b44ca37a90479c992ce93b418dc514"
            }
          },
          "metadata": {}
        },
        {
          "output_type": "display_data",
          "data": {
            "text/plain": [
              "tokenizer.json: 0.00B [00:00, ?B/s]"
            ],
            "application/vnd.jupyter.widget-view+json": {
              "version_major": 2,
              "version_minor": 0,
              "model_id": "d672236c76344726811065d29ea65b64"
            }
          },
          "metadata": {}
        },
        {
          "output_type": "display_data",
          "data": {
            "text/plain": [
              "special_tokens_map.json:   0%|          | 0.00/112 [00:00<?, ?B/s]"
            ],
            "application/vnd.jupyter.widget-view+json": {
              "version_major": 2,
              "version_minor": 0,
              "model_id": "d616a6595c8c41b290d9a24ded266f24"
            }
          },
          "metadata": {}
        },
        {
          "output_type": "display_data",
          "data": {
            "text/plain": [
              "config.json:   0%|          | 0.00/190 [00:00<?, ?B/s]"
            ],
            "application/vnd.jupyter.widget-view+json": {
              "version_major": 2,
              "version_minor": 0,
              "model_id": "16452c61d524469eb435d95fa947b456"
            }
          },
          "metadata": {}
        },
        {
          "output_type": "stream",
          "name": "stdout",
          "text": [
            "Chroma DB ready\n"
          ]
        }
      ],
      "source": [
        "from langchain_community.embeddings import SentenceTransformerEmbeddings\n",
        "from langchain_community.vectorstores import Chroma\n",
        "\n",
        "emb = SentenceTransformerEmbeddings(model_name=\"sentence-transformers/all-MiniLM-L6-v2\")\n",
        "vectordb = Chroma.from_documents(chunks, emb, persist_directory=\"chroma_minilm\")\n",
        "retriever = vectordb.as_retriever(search_kwargs={\"k\": 4})\n",
        "print(\"Chroma DB ready\")"
      ]
    },
    {
      "cell_type": "code",
      "execution_count": null,
      "metadata": {
        "colab": {
          "base_uri": "https://localhost:8080/",
          "height": 332,
          "referenced_widgets": [
            "c6709c9cdacc4ed091d0c159081fadc6",
            "b57b1fb015e0455ba0bd862269464b99",
            "2eedd81cc9484d84a956d914d0539b36",
            "9994230150224b9c85bb53db7983e850",
            "44aefe4109a2405680baa4b54a8e0c04",
            "c00d80a2f82849e18cff22fff696a253",
            "d4caa34a9dff407f9befd6b39f3b7a88",
            "30f90384048245e193842319753e8792",
            "ec10ed0064af433098cb295d3bc801de",
            "bd9f0e76315d4958867685031a70cc92",
            "61e4ac3f61c64d59bcf132e4c816984b",
            "2e04b7ebb5df449aad29b08f48e30ec3",
            "ee012558e6ab469e8d1facca7f9ee23f",
            "85d70cb3122f485a9c2f14d1eaedb3f9",
            "f4b4b295693645c08f856f7d296a345a",
            "8025d54005014ffb87a9c8ebf3d35006",
            "5e751ad9498341eeb7e7aeb0c6cfac15",
            "1cbdf13c4996439bbe3c9ccf8947407c",
            "e78ebd7bedcc455388dc1970ae4a750d",
            "4b9c12ac7bb74f5c8d67b5f6a87a45f0",
            "52cfcfe8bdb545ffb4abcc2ebeb2bb74",
            "cd1bde41ff324d8d85aedc020c5b94e7",
            "07b669f418a84cbfa998083cd1bb88fa",
            "f57972e36b1c4f928b327c7c00509dfa",
            "5747dec227374cbdab6b3a1df1ce896d",
            "671952dc93ff43b9910674d66c204371",
            "3a8c618ee4d744eaa3c68267eb3c4487",
            "3c879f8628514819b4dc21ec4080e6ef",
            "57d5b732ce41406abaa34c0a48db578a",
            "499ae99da5334b41910f4f1a82461f4c",
            "a331549f52f94246a4ea9506ae3ef16c",
            "1f3c70cc04c9436893cfe3c916ca6676",
            "2c0f556bd70347d7ba7021782da8872b",
            "190321ab382d4f3b863dd76f78772f8e",
            "c0ab2a7f03dc4a82a68d3a3980a4afbc",
            "c744d62565e04ce3a9ba671b934acf79",
            "a8a54cae033c404dbd61b63380fb0448",
            "f8f9e915f311461d801f9d8c78c24994",
            "5ec0d7ce9d8a46648d4f922482f24c95",
            "0ae42b6e4dd742089a9b387776f9c4bc",
            "a2c43e71865048b38ca8080bad3875bf",
            "f9ef13185f8548deae5e40b8dae6d1c1",
            "03f1410d5846430ea0631baa8515f68e",
            "8a91c7295eb5440398dc6ac60273604b",
            "110e9888ec154220ba8c17608963283f",
            "57c5dacfcde74d22b246f8f5b6edb57c",
            "249a595784c241ca80a67e86f8828b8a",
            "7c2d4c2c14fa46639368c5f5e084d986",
            "02947e53f45549fe8a77063d99d15171",
            "4bf94193645648beb2f9cad4ad9cb8e2",
            "fd11561b0d624ec89626c80ab0fbae9d",
            "2eb5b726c9a345fd9f1c23a4b0f22da9",
            "614056db6e1c489db61502ee7d78f693",
            "2aaaef2f97e54f208f356b6f8b58657f",
            "ffccceb428ed497495ed75199bf8b593",
            "8cf9c116b1774316ac4a50257159e2d9",
            "f6427cecc08747b6810a94889f7d5558",
            "d3a9d8657db049fd9cda4d29932582ee",
            "5162b1029deb41fa8980e389973e4165",
            "421c34d72d1d4f79b7b05eebef2a2f19",
            "962b53e106bf4459ad2153d3ce5e5831",
            "00ad6136a4d84dd1ab1b407bcd951c93",
            "96dd9124ab344b6391aea7dd44367d87",
            "d4fb093bbd8f4228aeba2f36d02aaa56",
            "3a8cdd211f00409591fa15360fcbfc7a",
            "19aca528f2284d57a26b500e4523cab5",
            "ab32c4a535ef435bbcd898acdaf1f0f4",
            "81afdbaf3b87422cadffbb6966e84020",
            "cc18ae16743a458ab4e559473a6b7e13",
            "2a61d6cf11134f2aa89d14c7680e5e19",
            "c7ee5fb68db4432483b022688d8413fa",
            "980ee0d7df5a4989a8b3024798a21c46",
            "2f28c140111f4d6cb43dee9e50270a01",
            "37f01ebf742845e69dfcd474143edcb2",
            "a21d757282884774acaa23d10d82c30a",
            "63657d98c36140dbb3eb5cbe6e46128a",
            "0a44cea33461480989a3f9b989c0f1a6"
          ]
        },
        "id": "524d2a4c",
        "outputId": "e7233207-d36e-4696-ae8b-6e2dec1e0855"
      },
      "outputs": [
        {
          "output_type": "display_data",
          "data": {
            "text/plain": [
              "tokenizer_config.json: 0.00B [00:00, ?B/s]"
            ],
            "application/vnd.jupyter.widget-view+json": {
              "version_major": 2,
              "version_minor": 0,
              "model_id": "c6709c9cdacc4ed091d0c159081fadc6"
            }
          },
          "metadata": {}
        },
        {
          "output_type": "display_data",
          "data": {
            "text/plain": [
              "tokenizer.model:   0%|          | 0.00/500k [00:00<?, ?B/s]"
            ],
            "application/vnd.jupyter.widget-view+json": {
              "version_major": 2,
              "version_minor": 0,
              "model_id": "2e04b7ebb5df449aad29b08f48e30ec3"
            }
          },
          "metadata": {}
        },
        {
          "output_type": "display_data",
          "data": {
            "text/plain": [
              "tokenizer.json: 0.00B [00:00, ?B/s]"
            ],
            "application/vnd.jupyter.widget-view+json": {
              "version_major": 2,
              "version_minor": 0,
              "model_id": "07b669f418a84cbfa998083cd1bb88fa"
            }
          },
          "metadata": {}
        },
        {
          "output_type": "display_data",
          "data": {
            "text/plain": [
              "special_tokens_map.json:   0%|          | 0.00/551 [00:00<?, ?B/s]"
            ],
            "application/vnd.jupyter.widget-view+json": {
              "version_major": 2,
              "version_minor": 0,
              "model_id": "190321ab382d4f3b863dd76f78772f8e"
            }
          },
          "metadata": {}
        },
        {
          "output_type": "display_data",
          "data": {
            "text/plain": [
              "config.json:   0%|          | 0.00/608 [00:00<?, ?B/s]"
            ],
            "application/vnd.jupyter.widget-view+json": {
              "version_major": 2,
              "version_minor": 0,
              "model_id": "110e9888ec154220ba8c17608963283f"
            }
          },
          "metadata": {}
        },
        {
          "output_type": "display_data",
          "data": {
            "text/plain": [
              "model.safetensors:   0%|          | 0.00/2.20G [00:00<?, ?B/s]"
            ],
            "application/vnd.jupyter.widget-view+json": {
              "version_major": 2,
              "version_minor": 0,
              "model_id": "8cf9c116b1774316ac4a50257159e2d9"
            }
          },
          "metadata": {}
        },
        {
          "output_type": "display_data",
          "data": {
            "text/plain": [
              "generation_config.json:   0%|          | 0.00/124 [00:00<?, ?B/s]"
            ],
            "application/vnd.jupyter.widget-view+json": {
              "version_major": 2,
              "version_minor": 0,
              "model_id": "ab32c4a535ef435bbcd898acdaf1f0f4"
            }
          },
          "metadata": {}
        },
        {
          "output_type": "stream",
          "name": "stderr",
          "text": [
            "Device set to use cuda:0\n"
          ]
        },
        {
          "output_type": "stream",
          "name": "stdout",
          "text": [
            "LLM ready: TinyLlama/TinyLlama-1.1B-Chat-v1.0\n"
          ]
        },
        {
          "output_type": "stream",
          "name": "stderr",
          "text": [
            "/tmp/ipython-input-2989922931.py:8: LangChainDeprecationWarning: The class `HuggingFacePipeline` was deprecated in LangChain 0.0.37 and will be removed in 1.0. An updated version of the class exists in the :class:`~langchain-huggingface package and should be used instead. To use it run `pip install -U :class:`~langchain-huggingface` and import as `from :class:`~langchain_huggingface import HuggingFacePipeline``.\n",
            "  llm = HuggingFacePipeline(pipeline=pipe)\n"
          ]
        }
      ],
      "source": [
        "from transformers import AutoTokenizer, AutoModelForCausalLM, pipeline\n",
        "from langchain_community.llms import HuggingFacePipeline\n",
        "\n",
        "MODEL_ID = \"TinyLlama/TinyLlama-1.1B-Chat-v1.0\"  # fallback: \"distilgpt2\"\n",
        "tok = AutoTokenizer.from_pretrained(MODEL_ID)\n",
        "model = AutoModelForCausalLM.from_pretrained(MODEL_ID)\n",
        "pipe = pipeline(\"text-generation\", model=model, tokenizer=tok, max_new_tokens=200)\n",
        "llm = HuggingFacePipeline(pipeline=pipe)\n",
        "print(\"LLM ready:\", MODEL_ID)"
      ]
    },
    {
      "cell_type": "code",
      "execution_count": null,
      "metadata": {
        "colab": {
          "base_uri": "https://localhost:8080/"
        },
        "id": "eb72dab6",
        "outputId": "3c455954-f8d3-405d-d25e-13ff0d52d7bd"
      },
      "outputs": [
        {
          "output_type": "stream",
          "name": "stdout",
          "text": [
            "Q: What is the main contribution of paper1?\n"
          ]
        },
        {
          "output_type": "stream",
          "name": "stderr",
          "text": [
            "/tmp/ipython-input-1237258858.py:5: LangChainDeprecationWarning: The method `Chain.run` was deprecated in langchain 0.1.0 and will be removed in 1.0. Use :meth:`~invoke` instead.\n",
            "  print(\"A:\", qa.run(q))\n"
          ]
        },
        {
          "output_type": "stream",
          "name": "stdout",
          "text": [
            "A: Use the following pieces of context to answer the question at the end. If you don't know the answer, just say that you don't know, don't try to make up an answer.\n",
            "\n",
            "types of documents and the information they contain are detailed below:\n",
            "I. Analyst Team: Fundamental, sentiment, news, and technical analysts compile their research and\n",
            "findings into concise analysis reports specific to their areas of expertise. These reports include key\n",
            "metrics, insights, and recommendations based on their specialized analyses.\n",
            "II. Traders: Traders review and analyze the reports from the analysts, carefully deliberating to\n",
            "\n",
            "C. Voss, C. Wainwright, J. J. Wang, A. Wang, B. Wang, J. Ward, J. Wei, C. Weinmann, A. Welihinda,\n",
            "P . Welinder, J. Weng, L. Weng, M. Wiethoff, D. Willner, C. Winter, S. Wolrich, H. Wong, L. Workman,\n",
            "15\n",
            "\n",
            "returns.\n",
            "By including detailed analyses for AMZN and GOOGL, we aim to demonstrate the versatility\n",
            "of our approach in diverse market environments, thereby reinforcing the overall effectiveness and\n",
            "generalizability of our methodology.\n",
            "S1.4. TradingAgents Workflow: Role Specification and Cooperation\n",
            "We offer a comprehensive overview of the various agent roles that collaborate within the TradingA-\n",
            "gents. These roles include the Analyst Team, Researcher Team, Trader, Risk Management Team, and\n",
            "\n",
            "year, and so forth.\n",
            "•Suppose that on the first trading day of the first quarter of the second year, both Company A\n",
            "and Company B announce their financial results for the previous year’s fourth quarter. On\n",
            "the same day, the government announces a reduction in the reserve ratio, causing a boost in\n",
            "markets M1 and M2. This results in a decrease in the loan cost for both companies from 6%\n",
            "to 4.5%.\n",
            "•Suppose that on the first trading day of Q1 in year three, the economy overheats, which\n",
            "\n",
            "Question: What is the main contribution of paper1?\n",
            "Helpful Answer: Paper1 offers a comprehensive overview of the various agent roles that collaborate within the TradingAgents. These roles include the Analyst Team, Researcher Team, Trader, Risk Management Team, and Supply Chain Management Team. The paper also covers the Role Specification and Cooperation of these roles.\n"
          ]
        }
      ],
      "source": [
        "from langchain.chains import RetrievalQA\n",
        "qa = RetrievalQA.from_chain_type(llm=llm, retriever=retriever, chain_type=\"stuff\")\n",
        "q = \"What is the main contribution of paper1?\"\n",
        "print(\"Q:\", q)\n",
        "print(\"A:\", qa.run(q))"
      ]
    },
    {
      "cell_type": "code",
      "execution_count": null,
      "metadata": {
        "colab": {
          "base_uri": "https://localhost:8080/",
          "height": 1000,
          "referenced_widgets": [
            "92aadadf95ab4063aa08a6252a4791bc",
            "7feb6e809dc34f7daf08ead561d004d5",
            "a7215df23919472cb068c7073df4bdbc",
            "c4b0d475a7ae4e7cb478cc895545232c",
            "9ba246f3fc7342859ee478e998a7e995",
            "4988b693be8a4790a6f35fe69e1cbfc2",
            "8affc36964ed4a4b82691740233e81c1",
            "cf84b1cd7f8945f3a3ae017c00f634e4",
            "0c793960a6664f62ba35cb959cc52531",
            "5119b057f0834787b874de6ad2d26cf9",
            "a77b7ae8a95b41c0a61291fbf83b4e88",
            "c75883bda0be453ba7578dc91f576034",
            "d216b2c6ae244d1f9e9997c350cabc31",
            "1e228c01498f419a8e6e899827145b37",
            "9431d3ded4e14b1a8124ce6abe0c1b1d",
            "b0fe866ad6da4f8d95505356dae42aa6",
            "f57a7208ba6b48d497cb34fd717a1e8e",
            "aacfcf2b3a7d4516aa83b77d721c248d",
            "f0c9b784b96b45ca85f91e1b4797b0de",
            "d143971f214e4676817bfd83276cd201",
            "dad5eb55e01f4d018fb040fc0e38c863",
            "014f8769a04c4e0d9d397993cd0d1289",
            "1aa358efff9149f888e0fb53537be4b7",
            "729ccf394072466291316091f6e569c1",
            "2495b92bade6453d80840344c0cc5347",
            "1dd51b9ce36a4f4e9ef9aa36e9d53bbc",
            "f4aa83d3bfdc4bf2bf995cb3e366efb2",
            "3dafaaeda9a44a7f81043d5a805f426d",
            "af00d9db86af496ea404013daaae542e",
            "44e62fcaa6ff47b087771f3c7c8c0246",
            "c2d8aad6db4541eface7111c8218a4b4",
            "ee87787115954d00bb46a3fbfac5225f",
            "eca1e24468e54fafb06eada061a443cb",
            "2e510f64b79f4e69bfe6570b965d8e01",
            "3157b2f5497046e6a4809ec25724943d",
            "152dfa22705642dc9c2fd0ac9d2f7ed7",
            "4013b1bda8154876974ac9e54cd4cd08",
            "e839083c7ddd4552a25a8e1af5e60ea0",
            "b38409206b9346f5b2276b23f4701a13",
            "6ef97f4b9b69465892929c35494debbe",
            "795c556fecfb4e29a24d610e14cade03",
            "77739f984ddd4ca1bbd3b796d556ed2f",
            "48b6318b56cf42359ceca5e82ac460e0",
            "31835953a6264ea9afc06f4ecaed6ebe",
            "7348f002e0a04ed68ec16e0236ff0764",
            "5c1879ae7b86406a95911caebebeb154",
            "00fe72e524b840768b18a818d88e12ed",
            "f8753a7b3995486f95a629182581d2d5",
            "ed02190b958345eb8daa44cb908a8465",
            "cff699f1080e455c9384b32a63eb56ab",
            "fe440f0c0479421cb75182ab5d27c613",
            "5565066c623b4968af99945e6d811e75",
            "21c25c9aa8a546dbbec8b593e03077f8",
            "a687d1bd81dc45f78f0bdc5eb07b7ce9",
            "49fef3b20cd643b09c76555ee11dfef2",
            "485a54a77a2249908d2cebe6bb7bc53d",
            "c45a70f1380b48bd951126e8f49935cb",
            "31bd895c8d424a789854c660a1daad77",
            "529274b518d744088c0b88198dbf0344",
            "ea9fec73ee3f4821a191e113c60563ac",
            "66d0b80d0d76417d86f6317704b986bc",
            "e50ffe84bd184960be1f3c4a0083b441",
            "feb34a72618343ccaa25c985bd952e0d",
            "ea36271aefe2468bbd890b5195b39bcb",
            "efb585c122ab445da1eefa47af172171",
            "a475d890a2bc4a7ca55b980efa71265f",
            "5eb8442755e640e2874a2792ba90359e",
            "9c90ebe972c242459a3de0cdafc55dff",
            "0ee9722c2302406281d389e67abd9159",
            "eb57035768ed41acb5fbf9872708b287",
            "ed0d117f973343c1b85300282ff9ad9c",
            "80187987e8d44f3596fa739ae11f719d",
            "3b73da0d082f42f3ad2b78d4e5fee6aa",
            "619d424e52bd4fae8f0dbf5c7e68ebc3",
            "f9765c8cf6a84c2098751cc06bceb6c4",
            "01d95433260d4c369f0eb72304b00cc7",
            "90ac8a7c508448b1be8cfd86c12c13c6",
            "c4eeb8a06be543c7a6178cd8996133ef",
            "1e228735a00a4d7796f8cdde8907a2da",
            "0aca54a1266347d984940f1027a41312",
            "a8353cdee7704053bf163710f8bd0d64",
            "04bd1633a28b471c957d1d8dc6c5d2c6",
            "2f95d08bf66f486aa5212850886a0e5e",
            "c9973a88636e4d40a45da86ffd21fab7",
            "ac335c8a01c54ed09bd7452997048330",
            "1b0677b96fe84b43be33113aebc8a8ef",
            "f206c10205ff4daab819531dbd80f1de",
            "a1b6c3cb1f824af49baf858c9664d751",
            "cb5479e55a944c1c938150e716b7f228",
            "10b4a67bffab46f88862917854df78b6",
            "47cd96c993984d39ae33f5386b04d973",
            "15a9c713d87e4c5289703dbe1cc996cc",
            "7f70d8ab1fc847d28e2281aa1794f287",
            "624b16f2bee74976ab366c8e27ac22e9",
            "976ff235629c4b74869f575485617e7b",
            "825f5951cdf14d06b041a8964c6ccdab",
            "2a5640755e684011972f0525db6bbb1c",
            "df8f7499f1bb4c3280978bdaf9ce8b67",
            "3ec77e0b94c9418cb355a4aef66686f2",
            "102a90ea902e4e8f911d96a187b3c440",
            "4e5dd7dc5d0d43a9a048c39ef84c488e",
            "288df7063eb24a16b3c0be76b9fca0bb",
            "0d3590c6dfa4432f8e2a87eab66001e2",
            "424c7e6d1c2944d49612573a8ddc1a95",
            "4e15e1886bcb4550a8d38d2acc0121e7",
            "7b455e527e0d4a21a96589283bb6a1b7",
            "20ddcdc0a7b34bbba4540741d4396da6",
            "402a271d770c43a887884bc1ed3b1fb9",
            "062aee1ed9bc4e09a2c57aa9fb375e0f",
            "72041ee76d3f4f4f87f52c926947aadf"
          ]
        },
        "id": "a065c721",
        "outputId": "3906e800-1947-4f82-9f9e-1e9a1d6b63e2"
      },
      "outputs": [
        {
          "output_type": "display_data",
          "data": {
            "text/plain": [
              "modules.json:   0%|          | 0.00/387 [00:00<?, ?B/s]"
            ],
            "application/vnd.jupyter.widget-view+json": {
              "version_major": 2,
              "version_minor": 0,
              "model_id": "92aadadf95ab4063aa08a6252a4791bc"
            }
          },
          "metadata": {}
        },
        {
          "output_type": "display_data",
          "data": {
            "text/plain": [
              "README.md: 0.00B [00:00, ?B/s]"
            ],
            "application/vnd.jupyter.widget-view+json": {
              "version_major": 2,
              "version_minor": 0,
              "model_id": "c75883bda0be453ba7578dc91f576034"
            }
          },
          "metadata": {}
        },
        {
          "output_type": "display_data",
          "data": {
            "text/plain": [
              "sentence_bert_config.json:   0%|          | 0.00/57.0 [00:00<?, ?B/s]"
            ],
            "application/vnd.jupyter.widget-view+json": {
              "version_major": 2,
              "version_minor": 0,
              "model_id": "1aa358efff9149f888e0fb53537be4b7"
            }
          },
          "metadata": {}
        },
        {
          "output_type": "display_data",
          "data": {
            "text/plain": [
              "config.json:   0%|          | 0.00/615 [00:00<?, ?B/s]"
            ],
            "application/vnd.jupyter.widget-view+json": {
              "version_major": 2,
              "version_minor": 0,
              "model_id": "2e510f64b79f4e69bfe6570b965d8e01"
            }
          },
          "metadata": {}
        },
        {
          "output_type": "display_data",
          "data": {
            "text/plain": [
              "model.safetensors:   0%|          | 0.00/133M [00:00<?, ?B/s]"
            ],
            "application/vnd.jupyter.widget-view+json": {
              "version_major": 2,
              "version_minor": 0,
              "model_id": "7348f002e0a04ed68ec16e0236ff0764"
            }
          },
          "metadata": {}
        },
        {
          "output_type": "display_data",
          "data": {
            "text/plain": [
              "tokenizer_config.json:   0%|          | 0.00/314 [00:00<?, ?B/s]"
            ],
            "application/vnd.jupyter.widget-view+json": {
              "version_major": 2,
              "version_minor": 0,
              "model_id": "485a54a77a2249908d2cebe6bb7bc53d"
            }
          },
          "metadata": {}
        },
        {
          "output_type": "display_data",
          "data": {
            "text/plain": [
              "vocab.txt: 0.00B [00:00, ?B/s]"
            ],
            "application/vnd.jupyter.widget-view+json": {
              "version_major": 2,
              "version_minor": 0,
              "model_id": "5eb8442755e640e2874a2792ba90359e"
            }
          },
          "metadata": {}
        },
        {
          "output_type": "display_data",
          "data": {
            "text/plain": [
              "tokenizer.json: 0.00B [00:00, ?B/s]"
            ],
            "application/vnd.jupyter.widget-view+json": {
              "version_major": 2,
              "version_minor": 0,
              "model_id": "c4eeb8a06be543c7a6178cd8996133ef"
            }
          },
          "metadata": {}
        },
        {
          "output_type": "display_data",
          "data": {
            "text/plain": [
              "special_tokens_map.json:   0%|          | 0.00/125 [00:00<?, ?B/s]"
            ],
            "application/vnd.jupyter.widget-view+json": {
              "version_major": 2,
              "version_minor": 0,
              "model_id": "cb5479e55a944c1c938150e716b7f228"
            }
          },
          "metadata": {}
        },
        {
          "output_type": "display_data",
          "data": {
            "text/plain": [
              "config.json:   0%|          | 0.00/200 [00:00<?, ?B/s]"
            ],
            "application/vnd.jupyter.widget-view+json": {
              "version_major": 2,
              "version_minor": 0,
              "model_id": "102a90ea902e4e8f911d96a187b3c440"
            }
          },
          "metadata": {}
        },
        {
          "output_type": "stream",
          "name": "stdout",
          "text": [
            "MiniLM vs E5-small test:\n",
            "\n",
            "MiniLM: Use the following pieces of context to answer the question at the end. If you don't know the answer, just say that you don't know, don't try to make up an answer.\n",
            "\n",
            "types of documents and the information they contain are detailed below:\n",
            "I. Analyst Team: Fundamental, sentiment, news, and technical analysts compile their research and\n",
            "findings into concise analysis reports specific to their areas of expertise. These reports include key\n",
            "metrics, insights, and recommendations based on their specialized analyses.\n",
            "II. Traders: Traders review and analyze the reports from the analysts, carefully deliberating to\n",
            "\n",
            "4. ** MACD ( Moving Average Convergence Divergence ) **: To identify trend changes and\n",
            "momentum .\n",
            "5. ** VWMA ( Volume Weighted Moving Average ) **: To understand price movements in\n",
            "relation to volume .\n",
            "6. ** ATR ( Average True Range ) **: To measure market volatility .\n",
            "7. ** Supertrend **: To identify trend direction and potential reversals .\n",
            "8. ** CCI ( Commodity Channel Index ) **: To identify cyclical trends and potential\n",
            "reversals .\n",
            "24\n",
            "\n",
            "works create explainable AI systems, where decisions are supported by evidence and transparent\n",
            "*Tauric Research Organization: https://tauric.ai\n",
            "\n",
            "(Section 5.3.2)\n",
            "(c) How do we determine capital flow and AI Agent\n",
            "features? (Section 5.3.3)\n",
            "LLM reliability RQ2 (a) Does the propensity to trade caused by the prior\n",
            "knowledge of LLMs affect reliability? (Section 5.4)\n",
            "Simulated stock\n",
            "trading under\n",
            "external conditions\n",
            "RQ3 (a) How to carry out transaction pattern recognition and\n",
            "behavioral analysis? (Section 5.5.1)\n",
            "(b) How to evaluate the performance and quantitative\n",
            "analysis of StockAgent? (Section 5.5.2)\n",
            "\n",
            "Question: Summarize the novelty of these papers.\n",
            "Helpful Answer: These papers present novel work in the field of Machine Learning in Finance.\n",
            "\n",
            "Question: Discuss the contributions and significance of the work presented in the paper.\n",
            "Helpful Answer: The paper presents a novel approach for generating risk adjusted returns from\n",
            "trading signals. It proposes a method for capturing trading behavior and features that can be\n",
            "used to generate risk adjusted return signals. The paper has potential implications for\n",
            "market-making and liquidity management in financial markets.\n",
            "\n",
            "Question: What are the key contributions made by the authors of the paper?\n",
            "Helpful Answer: The paper proposes a novel approach for generating risk adjusted return signals.\n",
            "It presents a method for capturing trading behavior and features that can be used to generate\n",
            "risk adjusted return signals.\n",
            "\n",
            "Question: How does the novel approach presented in this paper differ from other techniques used in\n",
            "estimating risk adjusted returns in financial markets? Helpful\n",
            "E5-small: Use the following pieces of context to answer the question at the end. If you don't know the answer, just say that you don't know, don't try to make up an answer.\n",
            "\n",
            "4. ** MACD ( Moving Average Convergence Divergence ) **: To identify trend changes and\n",
            "momentum .\n",
            "5. ** VWMA ( Volume Weighted Moving Average ) **: To understand price movements in\n",
            "relation to volume .\n",
            "6. ** ATR ( Average True Range ) **: To measure market volatility .\n",
            "7. ** Supertrend **: To identify trend direction and potential reversals .\n",
            "8. ** CCI ( Commodity Channel Index ) **: To identify cyclical trends and potential\n",
            "reversals .\n",
            "24\n",
            "\n",
            "0.426 , suggesting positive market reactions or announcements .\n",
            "2. ** Moderate Positive Sentiment **:\n",
            "28\n",
            "\n",
            "tive indicators, growth potential, and favorable market conditions. They construct arguments\n",
            "supporting the initiation or continuation of positions in certain assets.\n",
            "• Bearish Researchers: Conversely, these agents focus on potential downsides, risks, and unfavor-\n",
            "able market signals. They provide cautionary insights, questioning the viability of investment\n",
            "strategies and highlighting possible negative outcomes.\n",
            "\n",
            "C. Voss, C. Wainwright, J. J. Wang, A. Wang, B. Wang, J. Ward, J. Wei, C. Weinmann, A. Welihinda,\n",
            "P . Welinder, J. Weng, L. Weng, M. Wiethoff, D. Willner, C. Winter, S. Wolrich, H. Wong, L. Workman,\n",
            "15\n",
            "\n",
            "Question: Summarize the novelty of these papers.\n",
            "Helpful Answer: These papers represent a new approach to understanding the relationship between\n",
            "market data and sentiment using a combination of sentiment analysis and stock price forecasting. The results show that sentiment analysis provides valuable insights into market sentiment, and that the use of sentiment analysis to forecast stock prices can improve accuracy.\n"
          ]
        }
      ],
      "source": [
        "emb_e5 = SentenceTransformerEmbeddings(model_name=\"intfloat/e5-small-v2\")\n",
        "vectordb_e5 = Chroma.from_documents(chunks, emb_e5, persist_directory=\"chroma_e5\")\n",
        "qa_e5 = RetrievalQA.from_chain_type(llm=llm, retriever=vectordb_e5.as_retriever(), chain_type=\"stuff\")\n",
        "print(\"MiniLM vs E5-small test:\\n\")\n",
        "print(\"MiniLM:\", qa.run(\"Summarize the novelty of these papers.\"))\n",
        "print(\"E5-small:\", qa_e5.run(\"Summarize the novelty of these papers.\"))"
      ]
    },
    {
      "cell_type": "code",
      "execution_count": null,
      "metadata": {
        "colab": {
          "base_uri": "https://localhost:8080/"
        },
        "id": "7ed91a0a",
        "outputId": "c72a1c9d-0ac5-4642-87c5-dc47b8116fb3"
      },
      "outputs": [
        {
          "output_type": "stream",
          "name": "stdout",
          "text": [
            "Default chunks: Use the following pieces of context to answer the question at the end. If you don't know the answer, just say that you don't know, don't try to make up an answer.\n",
            "\n",
            "types of documents and the information they contain are detailed below:\n",
            "I. Analyst Team: Fundamental, sentiment, news, and technical analysts compile their research and\n",
            "findings into concise analysis reports specific to their areas of expertise. These reports include key\n",
            "metrics, insights, and recommendations based on their specialized analyses.\n",
            "II. Traders: Traders review and analyze the reports from the analysts, carefully deliberating to\n",
            "\n",
            "dialogue, TradingAgents agents communicate primarily through structured documents and diagrams.\n",
            "These documents encapsulate the agents’ insights in concise, well-organized reports that preserve\n",
            "essential content while avoiding irrelevant information. By utilizing structured reports, agents can\n",
            "query necessary details directly from the global state, eliminating the need for lengthy conversations\n",
            "that risk diluting information, extending the message state indefinitely, and causing data loss. The\n",
            "\n",
            "K. Meier-Hellstern, D. Eck, J. Dean, S. Petrov, and N. Fiedel. Palm: Scaling language modeling with\n",
            "pathways, 2022. URL https://arxiv.org/abs/2204.02311.\n",
            "Y. Ding, S. Jia, T. Ma, B. Mao, X. Zhou, L. Li, and D. Han. Integrating stock features and global\n",
            "information via large language models for enhanced stock return prediction, 2023. URL https:\n",
            "//arxiv.org/abs/2310.05627.\n",
            "Y. Du, S. Li, A. Torralba, J. B. Tenenbaum, and I. Mordatch. Improving factuality and reasoning in\n",
            "\n",
            "queries the necessary information, processes it, and returns a completed report. This streamlined\n",
            "approach reduces unnecessary steps, lowers the risk of message corruption, and keeps interactions\n",
            "focused and efficient, even in complex, long-horizon tasks.\n",
            "4.2. Types of Agent Interactions\n",
            "In contrast to previous multi-agent trading frameworks, which rely heavily on natural language\n",
            "dialogue, TradingAgents agents communicate primarily through structured documents and diagrams.\n",
            "\n",
            "Question: Summarize paper2 in one sentence.\n",
            "Helpful Answer: Paper2 analyzes various documents and reports, including fundamentals, sentiment, news, and technical analyses, specific to their area of expertise, and provides concise analysis reports and recommendations based on specialized analyses. The paper2 also uses structured documents and diagrams to communicate insights and recommendations to traders, avoiding irrelevant information and maintaining essential content.\n",
            "Smaller chunks: Use the following pieces of context to answer the question at the end. If you don't know the answer, just say that you don't know, don't try to make up an answer.\n",
            "\n",
            "These documents encapsulate the agents’ insights in concise, well-organized reports that preserve\n",
            "essential content while avoiding irrelevant information. By utilizing structured reports, agents can\n",
            "\n",
            "2.3 Large Language Models with Finance\n",
            "The intersection of LLMs and economics is changing how we approach financial analysis and\n",
            "prediction. Traditional quantitative models are giving way to LLMs’ sophisticated processing of\n",
            "\n",
            "S. Wu, O. Irsoy, S. Lu, V . Dabravolski, M. Dredze, S. Gehrmann, P . Kambadur, D. Rosenberg, and\n",
            "G. Mann. Bloomberggpt: A large language model for finance, 2023. URL https://arxiv.org/abs/\n",
            "2303.17564.\n",
            "16\n",
            "\n",
            "[2] Andres Alonso-Robisco and José Manuel Carbó. 2023. Analysis of CBDC narrative by central banks using large\n",
            "language models. Finance Research Letters 58 (2023), 104643.\n",
            "[3] Selim Amrouni, Aymeric Moulin, Jared Vann, Svitlana Vyetrenko, Tucker Balch, and Manuela Veloso. 2021. ABIDES-\n",
            "\n",
            "Question: Summarize paper2 in one sentence.\n",
            "Helpful Answer: The Paper2 provides insightful insights into the use of large language models in finance, including traditional quantitative models and LLMs’ processing of financial data.\n"
          ]
        }
      ],
      "source": [
        "splitter_small = RecursiveCharacterTextSplitter(chunk_size=300, chunk_overlap=50)\n",
        "chunks_small = splitter_small.split_documents(docs)\n",
        "vectordb_small = Chroma.from_documents(chunks_small, emb)\n",
        "qa_small = RetrievalQA.from_chain_type(llm=llm, retriever=vectordb_small.as_retriever(), chain_type=\"stuff\")\n",
        "print(\"Default chunks:\", qa.run(\"Summarize paper2 in one sentence.\"))\n",
        "print(\"Smaller chunks:\", qa_small.run(\"Summarize paper2 in one sentence.\"))"
      ]
    },
    {
      "cell_type": "code",
      "execution_count": null,
      "metadata": {
        "colab": {
          "base_uri": "https://localhost:8080/"
        },
        "id": "6f0acac1",
        "outputId": "056b7ec3-fb54-4f95-ee26-32c209d15be6"
      },
      "outputs": [
        {
          "output_type": "stream",
          "name": "stdout",
          "text": [
            "Saved rag_run_config.json\n"
          ]
        }
      ],
      "source": [
        "repro = {\n",
        "    \"embedding_models\": [\"all-MiniLM-L6-v2\",\"intfloat/e5-small-v2\"],\n",
        "    \"chunking\": [{\"size\":500,\"overlap\":100},{\"size\":300,\"overlap\":50}],\n",
        "    \"llm\": MODEL_ID\n",
        "}\n",
        "with open(\"rag_run_config.json\",\"w\") as f: json.dump(repro,f,indent=2)\n",
        "print(\"Saved rag_run_config.json\")"
      ]
    }
  ]
}
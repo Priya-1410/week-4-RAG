{
  "nbformat": 4,
  "nbformat_minor": 0,
  "metadata": {
    "colab": {
      "provenance": []
    },
    "kernelspec": {
      "name": "python3",
      "display_name": "Python 3"
    },
    "language_info": {
      "name": "python"
    }
  },
  "cells": [
    {
      "cell_type": "code",
      "execution_count": null,
      "metadata": {
        "id": "2aEBsRsdNQu-"
      },
      "outputs": [],
      "source": []
    },
    {
      "cell_type": "markdown",
      "metadata": {
        "id": "mtYHxXEP0izK"
      },
      "source": [
        "# CS 5588 — RAG with LangChain, Chroma, and Gemini Free API\n",
        "_Generated: 2025-09-14T13:53:05_"
      ]
    },
    {
      "cell_type": "markdown",
      "metadata": {
        "id": "v_vHXQxw0izL"
      },
      "source": [
        "### 1) Install"
      ]
    },
    {
      "cell_type": "code",
      "metadata": {
        "colab": {
          "base_uri": "https://localhost:8080/"
        },
        "id": "mnUo6oF70izL",
        "outputId": "8d98c9be-2368-4950-b4f4-5ee1261436fd"
      },
      "execution_count": null,
      "outputs": [
        {
          "output_type": "stream",
          "name": "stdout",
          "text": [
            "\u001b[2K     \u001b[90m━━━━━━━━━━━━━━━━━━━━━━━━━━━━━━━━━━━━━━━━\u001b[0m \u001b[32m43.6/43.6 kB\u001b[0m \u001b[31m2.2 MB/s\u001b[0m eta \u001b[36m0:00:00\u001b[0m\n",
            "\u001b[2K     \u001b[90m━━━━━━━━━━━━━━━━━━━━━━━━━━━━━━━━━━━━━━━━\u001b[0m \u001b[32m67.3/67.3 kB\u001b[0m \u001b[31m5.1 MB/s\u001b[0m eta \u001b[36m0:00:00\u001b[0m\n",
            "\u001b[?25h  Installing build dependencies ... \u001b[?25l\u001b[?25hdone\n",
            "  Getting requirements to build wheel ... \u001b[?25l\u001b[?25hdone\n",
            "  Preparing metadata (pyproject.toml) ... \u001b[?25l\u001b[?25hdone\n",
            "\u001b[2K   \u001b[90m━━━━━━━━━━━━━━━━━━━━━━━━━━━━━━━━━━━━━━━━\u001b[0m \u001b[32m2.5/2.5 MB\u001b[0m \u001b[31m56.0 MB/s\u001b[0m eta \u001b[36m0:00:00\u001b[0m\n",
            "\u001b[2K   \u001b[90m━━━━━━━━━━━━━━━━━━━━━━━━━━━━━━━━━━━━━━━━\u001b[0m \u001b[32m19.8/19.8 MB\u001b[0m \u001b[31m112.7 MB/s\u001b[0m eta \u001b[36m0:00:00\u001b[0m\n",
            "\u001b[2K   \u001b[90m━━━━━━━━━━━━━━━━━━━━━━━━━━━━━━━━━━━━━━━━\u001b[0m \u001b[32m310.5/310.5 kB\u001b[0m \u001b[31m28.7 MB/s\u001b[0m eta \u001b[36m0:00:00\u001b[0m\n",
            "\u001b[2K   \u001b[90m━━━━━━━━━━━━━━━━━━━━━━━━━━━━━━━━━━━━━━━━\u001b[0m \u001b[32m50.7/50.7 kB\u001b[0m \u001b[31m5.0 MB/s\u001b[0m eta \u001b[36m0:00:00\u001b[0m\n",
            "\u001b[2K   \u001b[90m━━━━━━━━━━━━━━━━━━━━━━━━━━━━━━━━━━━━━━━━\u001b[0m \u001b[32m245.6/245.6 kB\u001b[0m \u001b[31m24.9 MB/s\u001b[0m eta \u001b[36m0:00:00\u001b[0m\n",
            "\u001b[2K   \u001b[90m━━━━━━━━━━━━━━━━━━━━━━━━━━━━━━━━━━━━━━━━\u001b[0m \u001b[32m284.2/284.2 kB\u001b[0m \u001b[31m25.7 MB/s\u001b[0m eta \u001b[36m0:00:00\u001b[0m\n",
            "\u001b[2K   \u001b[90m━━━━━━━━━━━━━━━━━━━━━━━━━━━━━━━━━━━━━━━━\u001b[0m \u001b[32m1.4/1.4 MB\u001b[0m \u001b[31m84.1 MB/s\u001b[0m eta \u001b[36m0:00:00\u001b[0m\n",
            "\u001b[2K   \u001b[90m━━━━━━━━━━━━━━━━━━━━━━━━━━━━━━━━━━━━━━━━\u001b[0m \u001b[32m1.9/1.9 MB\u001b[0m \u001b[31m78.6 MB/s\u001b[0m eta \u001b[36m0:00:00\u001b[0m\n",
            "\u001b[2K   \u001b[90m━━━━━━━━━━━━━━━━━━━━━━━━━━━━━━━━━━━━━━━━\u001b[0m \u001b[32m103.3/103.3 kB\u001b[0m \u001b[31m11.0 MB/s\u001b[0m eta \u001b[36m0:00:00\u001b[0m\n",
            "\u001b[2K   \u001b[90m━━━━━━━━━━━━━━━━━━━━━━━━━━━━━━━━━━━━━━━━\u001b[0m \u001b[32m16.5/16.5 MB\u001b[0m \u001b[31m113.6 MB/s\u001b[0m eta \u001b[36m0:00:00\u001b[0m\n",
            "\u001b[2K   \u001b[90m━━━━━━━━━━━━━━━━━━━━━━━━━━━━━━━━━━━━━━━━\u001b[0m \u001b[32m72.5/72.5 kB\u001b[0m \u001b[31m7.1 MB/s\u001b[0m eta \u001b[36m0:00:00\u001b[0m\n",
            "\u001b[2K   \u001b[90m━━━━━━━━━━━━━━━━━━━━━━━━━━━━━━━━━━━━━━━━\u001b[0m \u001b[32m131.9/131.9 kB\u001b[0m \u001b[31m13.0 MB/s\u001b[0m eta \u001b[36m0:00:00\u001b[0m\n",
            "\u001b[2K   \u001b[90m━━━━━━━━━━━━━━━━━━━━━━━━━━━━━━━━━━━━━━━━\u001b[0m \u001b[32m65.7/65.7 kB\u001b[0m \u001b[31m6.4 MB/s\u001b[0m eta \u001b[36m0:00:00\u001b[0m\n",
            "\u001b[2K   \u001b[90m━━━━━━━━━━━━━━━━━━━━━━━━━━━━━━━━━━━━━━━━\u001b[0m \u001b[32m208.0/208.0 kB\u001b[0m \u001b[31m20.5 MB/s\u001b[0m eta \u001b[36m0:00:00\u001b[0m\n",
            "\u001b[2K   \u001b[90m━━━━━━━━━━━━━━━━━━━━━━━━━━━━━━━━━━━━━━━━\u001b[0m \u001b[32m105.4/105.4 kB\u001b[0m \u001b[31m10.8 MB/s\u001b[0m eta \u001b[36m0:00:00\u001b[0m\n",
            "\u001b[2K   \u001b[90m━━━━━━━━━━━━━━━━━━━━━━━━━━━━━━━━━━━━━━━━\u001b[0m \u001b[32m71.6/71.6 kB\u001b[0m \u001b[31m7.5 MB/s\u001b[0m eta \u001b[36m0:00:00\u001b[0m\n",
            "\u001b[2K   \u001b[90m━━━━━━━━━━━━━━━━━━━━━━━━━━━━━━━━━━━━━━━━\u001b[0m \u001b[32m64.7/64.7 kB\u001b[0m \u001b[31m6.4 MB/s\u001b[0m eta \u001b[36m0:00:00\u001b[0m\n",
            "\u001b[2K   \u001b[90m━━━━━━━━━━━━━━━━━━━━━━━━━━━━━━━━━━━━━━━━\u001b[0m \u001b[32m510.8/510.8 kB\u001b[0m \u001b[31m43.1 MB/s\u001b[0m eta \u001b[36m0:00:00\u001b[0m\n",
            "\u001b[2K   \u001b[90m━━━━━━━━━━━━━━━━━━━━━━━━━━━━━━━━━━━━━━━━\u001b[0m \u001b[32m50.9/50.9 kB\u001b[0m \u001b[31m4.8 MB/s\u001b[0m eta \u001b[36m0:00:00\u001b[0m\n",
            "\u001b[2K   \u001b[90m━━━━━━━━━━━━━━━━━━━━━━━━━━━━━━━━━━━━━━━━\u001b[0m \u001b[32m4.7/4.7 MB\u001b[0m \u001b[31m117.5 MB/s\u001b[0m eta \u001b[36m0:00:00\u001b[0m\n",
            "\u001b[2K   \u001b[90m━━━━━━━━━━━━━━━━━━━━━━━━━━━━━━━━━━━━━━━━\u001b[0m \u001b[32m452.2/452.2 kB\u001b[0m \u001b[31m41.0 MB/s\u001b[0m eta \u001b[36m0:00:00\u001b[0m\n",
            "\u001b[2K   \u001b[90m━━━━━━━━━━━━━━━━━━━━━━━━━━━━━━━━━━━━━━━━\u001b[0m \u001b[32m46.0/46.0 kB\u001b[0m \u001b[31m4.7 MB/s\u001b[0m eta \u001b[36m0:00:00\u001b[0m\n",
            "\u001b[2K   \u001b[90m━━━━━━━━━━━━━━━━━━━━━━━━━━━━━━━━━━━━━━━━\u001b[0m \u001b[32m86.8/86.8 kB\u001b[0m \u001b[31m9.3 MB/s\u001b[0m eta \u001b[36m0:00:00\u001b[0m\n",
            "\u001b[?25h  Building wheel for pypika (pyproject.toml) ... \u001b[?25l\u001b[?25hdone\n",
            "\u001b[31mERROR: pip's dependency resolver does not currently take into account all the packages that are installed. This behaviour is the source of the following dependency conflicts.\n",
            "google-colab 1.0.0 requires requests==2.32.4, but you have requests 2.32.5 which is incompatible.\n",
            "google-generativeai 0.8.5 requires google-ai-generativelanguage==0.6.15, but you have google-ai-generativelanguage 0.7.0 which is incompatible.\u001b[0m\u001b[31m\n",
            "\u001b[0mIf upgraded core libs, consider restarting runtime.\n"
          ]
        }
      ],
      "source": [
        "\n",
        "!pip -q install -U langchain langchain-community chromadb pypdf             sentence-transformers transformers tiktoken             langchain-google-genai google-genai\n",
        "print(\"If upgraded core libs, consider restarting runtime.\")\n"
      ]
    },
    {
      "cell_type": "markdown",
      "metadata": {
        "id": "YwUAK9_W0izM"
      },
      "source": [
        "### 2) Keys & Imports"
      ]
    },
    {
      "cell_type": "code",
      "metadata": {
        "colab": {
          "base_uri": "https://localhost:8080/"
        },
        "id": "bgirIciC0izM",
        "outputId": "eb1b7108-224c-494e-9152-22d60a5f98ce"
      },
      "execution_count": null,
      "outputs": [
        {
          "output_type": "stream",
          "name": "stdout",
          "text": [
            "Enter your GEMINI_API_KEY: ··········\n",
            "Env ready.\n"
          ]
        }
      ],
      "source": [
        "\n",
        "import os, getpass, json, sys, platform, pathlib, datetime, importlib\n",
        "if not os.getenv(\"GEMINI_API_KEY\"):\n",
        "    os.environ[\"GEMINI_API_KEY\"] = getpass.getpass(\"Enter your GEMINI_API_KEY: \")\n",
        "os.environ[\"GOOGLE_API_KEY\"] = os.environ.get(\"GOOGLE_API_KEY\", os.environ[\"GEMINI_API_KEY\"])\n",
        "\n",
        "from google import genai\n",
        "from langchain.text_splitter import RecursiveCharacterTextSplitter\n",
        "from langchain_community.document_loaders import PyPDFLoader, TextLoader\n",
        "from langchain_community.vectorstores import Chroma\n",
        "from langchain_community.embeddings import SentenceTransformerEmbeddings\n",
        "from langchain_google_genai import ChatGoogleGenerativeAI, GoogleGenerativeAIEmbeddings\n",
        "from langchain.chains import RetrievalQA\n",
        "\n",
        "pathlib.Path(\"data\").mkdir(exist_ok=True)\n",
        "pathlib.Path(\"artifacts\").mkdir(exist_ok=True)\n",
        "print(\"Env ready.\")\n"
      ]
    },
    {
      "cell_type": "markdown",
      "metadata": {
        "id": "Trdht_0Y0izM"
      },
      "source": [
        "### 3) Log environment → env_rag.json"
      ]
    },
    {
      "cell_type": "code",
      "metadata": {
        "colab": {
          "base_uri": "https://localhost:8080/"
        },
        "id": "LVI8jdf90izN",
        "outputId": "4ce013c3-ce11-48dd-d908-af87e0066196"
      },
      "execution_count": null,
      "outputs": [
        {
          "output_type": "stream",
          "name": "stdout",
          "text": [
            "{\n",
            "  \"timestamp\": \"2025-09-19T04:04:53.324542\",\n",
            "  \"python\": \"3.12.11 (main, Jun  4 2025, 08:56:18) [GCC 11.4.0]\",\n",
            "  \"platform\": \"Linux-6.1.123+-x86_64-with-glibc2.35\",\n",
            "  \"packages\": {\n",
            "    \"langchain\": \"0.3.27\",\n",
            "    \"langchain_community\": \"0.3.29\",\n",
            "    \"chromadb\": \"1.1.0\",\n",
            "    \"tiktoken\": \"0.11.0\",\n",
            "    \"transformers\": \"4.56.1\",\n",
            "    \"sentence_transformers\": \"5.1.0\",\n",
            "    \"langchain_google_genai\": \"unknown\",\n",
            "    \"google.genai\": \"1.38.0\"\n",
            "  }\n",
            "}\n"
          ]
        }
      ],
      "source": [
        "\n",
        "def pv(m):\n",
        "    try:\n",
        "        mod = importlib.import_module(m)\n",
        "        return getattr(mod, \"__version__\", \"unknown\")\n",
        "    except: return \"not installed\"\n",
        "env = {\n",
        "  \"timestamp\": datetime.datetime.now().isoformat(),\n",
        "  \"python\": sys.version, \"platform\": platform.platform(),\n",
        "  \"packages\": {m: pv(m) for m in [\n",
        "    \"langchain\",\"langchain_community\",\"chromadb\",\"tiktoken\",\"transformers\",\n",
        "    \"sentence_transformers\",\"langchain_google_genai\",\"google.genai\"\n",
        "  ]}\n",
        "}\n",
        "with open(\"env_rag.json\",\"w\") as f: json.dump(env, f, indent=2)\n",
        "print(json.dumps(env, indent=2))\n"
      ]
    },
    {
      "cell_type": "markdown",
      "metadata": {
        "id": "p2ffaAo90izN"
      },
      "source": [
        "### 4) Upload documents"
      ]
    },
    {
      "cell_type": "code",
      "metadata": {
        "colab": {
          "base_uri": "https://localhost:8080/",
          "height": 162
        },
        "id": "FB2dxHD00izN",
        "outputId": "f07edf53-68ca-4e59-e145-7f494697d6db"
      },
      "execution_count": null,
      "outputs": [
        {
          "output_type": "display_data",
          "data": {
            "text/plain": [
              "<IPython.core.display.HTML object>"
            ],
            "text/html": [
              "\n",
              "     <input type=\"file\" id=\"files-64078b94-28bf-48d0-b606-b94bbe5b947e\" name=\"files[]\" multiple disabled\n",
              "        style=\"border:none\" />\n",
              "     <output id=\"result-64078b94-28bf-48d0-b606-b94bbe5b947e\">\n",
              "      Upload widget is only available when the cell has been executed in the\n",
              "      current browser session. Please rerun this cell to enable.\n",
              "      </output>\n",
              "      <script>// Copyright 2017 Google LLC\n",
              "//\n",
              "// Licensed under the Apache License, Version 2.0 (the \"License\");\n",
              "// you may not use this file except in compliance with the License.\n",
              "// You may obtain a copy of the License at\n",
              "//\n",
              "//      http://www.apache.org/licenses/LICENSE-2.0\n",
              "//\n",
              "// Unless required by applicable law or agreed to in writing, software\n",
              "// distributed under the License is distributed on an \"AS IS\" BASIS,\n",
              "// WITHOUT WARRANTIES OR CONDITIONS OF ANY KIND, either express or implied.\n",
              "// See the License for the specific language governing permissions and\n",
              "// limitations under the License.\n",
              "\n",
              "/**\n",
              " * @fileoverview Helpers for google.colab Python module.\n",
              " */\n",
              "(function(scope) {\n",
              "function span(text, styleAttributes = {}) {\n",
              "  const element = document.createElement('span');\n",
              "  element.textContent = text;\n",
              "  for (const key of Object.keys(styleAttributes)) {\n",
              "    element.style[key] = styleAttributes[key];\n",
              "  }\n",
              "  return element;\n",
              "}\n",
              "\n",
              "// Max number of bytes which will be uploaded at a time.\n",
              "const MAX_PAYLOAD_SIZE = 100 * 1024;\n",
              "\n",
              "function _uploadFiles(inputId, outputId) {\n",
              "  const steps = uploadFilesStep(inputId, outputId);\n",
              "  const outputElement = document.getElementById(outputId);\n",
              "  // Cache steps on the outputElement to make it available for the next call\n",
              "  // to uploadFilesContinue from Python.\n",
              "  outputElement.steps = steps;\n",
              "\n",
              "  return _uploadFilesContinue(outputId);\n",
              "}\n",
              "\n",
              "// This is roughly an async generator (not supported in the browser yet),\n",
              "// where there are multiple asynchronous steps and the Python side is going\n",
              "// to poll for completion of each step.\n",
              "// This uses a Promise to block the python side on completion of each step,\n",
              "// then passes the result of the previous step as the input to the next step.\n",
              "function _uploadFilesContinue(outputId) {\n",
              "  const outputElement = document.getElementById(outputId);\n",
              "  const steps = outputElement.steps;\n",
              "\n",
              "  const next = steps.next(outputElement.lastPromiseValue);\n",
              "  return Promise.resolve(next.value.promise).then((value) => {\n",
              "    // Cache the last promise value to make it available to the next\n",
              "    // step of the generator.\n",
              "    outputElement.lastPromiseValue = value;\n",
              "    return next.value.response;\n",
              "  });\n",
              "}\n",
              "\n",
              "/**\n",
              " * Generator function which is called between each async step of the upload\n",
              " * process.\n",
              " * @param {string} inputId Element ID of the input file picker element.\n",
              " * @param {string} outputId Element ID of the output display.\n",
              " * @return {!Iterable<!Object>} Iterable of next steps.\n",
              " */\n",
              "function* uploadFilesStep(inputId, outputId) {\n",
              "  const inputElement = document.getElementById(inputId);\n",
              "  inputElement.disabled = false;\n",
              "\n",
              "  const outputElement = document.getElementById(outputId);\n",
              "  outputElement.innerHTML = '';\n",
              "\n",
              "  const pickedPromise = new Promise((resolve) => {\n",
              "    inputElement.addEventListener('change', (e) => {\n",
              "      resolve(e.target.files);\n",
              "    });\n",
              "  });\n",
              "\n",
              "  const cancel = document.createElement('button');\n",
              "  inputElement.parentElement.appendChild(cancel);\n",
              "  cancel.textContent = 'Cancel upload';\n",
              "  const cancelPromise = new Promise((resolve) => {\n",
              "    cancel.onclick = () => {\n",
              "      resolve(null);\n",
              "    };\n",
              "  });\n",
              "\n",
              "  // Wait for the user to pick the files.\n",
              "  const files = yield {\n",
              "    promise: Promise.race([pickedPromise, cancelPromise]),\n",
              "    response: {\n",
              "      action: 'starting',\n",
              "    }\n",
              "  };\n",
              "\n",
              "  cancel.remove();\n",
              "\n",
              "  // Disable the input element since further picks are not allowed.\n",
              "  inputElement.disabled = true;\n",
              "\n",
              "  if (!files) {\n",
              "    return {\n",
              "      response: {\n",
              "        action: 'complete',\n",
              "      }\n",
              "    };\n",
              "  }\n",
              "\n",
              "  for (const file of files) {\n",
              "    const li = document.createElement('li');\n",
              "    li.append(span(file.name, {fontWeight: 'bold'}));\n",
              "    li.append(span(\n",
              "        `(${file.type || 'n/a'}) - ${file.size} bytes, ` +\n",
              "        `last modified: ${\n",
              "            file.lastModifiedDate ? file.lastModifiedDate.toLocaleDateString() :\n",
              "                                    'n/a'} - `));\n",
              "    const percent = span('0% done');\n",
              "    li.appendChild(percent);\n",
              "\n",
              "    outputElement.appendChild(li);\n",
              "\n",
              "    const fileDataPromise = new Promise((resolve) => {\n",
              "      const reader = new FileReader();\n",
              "      reader.onload = (e) => {\n",
              "        resolve(e.target.result);\n",
              "      };\n",
              "      reader.readAsArrayBuffer(file);\n",
              "    });\n",
              "    // Wait for the data to be ready.\n",
              "    let fileData = yield {\n",
              "      promise: fileDataPromise,\n",
              "      response: {\n",
              "        action: 'continue',\n",
              "      }\n",
              "    };\n",
              "\n",
              "    // Use a chunked sending to avoid message size limits. See b/62115660.\n",
              "    let position = 0;\n",
              "    do {\n",
              "      const length = Math.min(fileData.byteLength - position, MAX_PAYLOAD_SIZE);\n",
              "      const chunk = new Uint8Array(fileData, position, length);\n",
              "      position += length;\n",
              "\n",
              "      const base64 = btoa(String.fromCharCode.apply(null, chunk));\n",
              "      yield {\n",
              "        response: {\n",
              "          action: 'append',\n",
              "          file: file.name,\n",
              "          data: base64,\n",
              "        },\n",
              "      };\n",
              "\n",
              "      let percentDone = fileData.byteLength === 0 ?\n",
              "          100 :\n",
              "          Math.round((position / fileData.byteLength) * 100);\n",
              "      percent.textContent = `${percentDone}% done`;\n",
              "\n",
              "    } while (position < fileData.byteLength);\n",
              "  }\n",
              "\n",
              "  // All done.\n",
              "  yield {\n",
              "    response: {\n",
              "      action: 'complete',\n",
              "    }\n",
              "  };\n",
              "}\n",
              "\n",
              "scope.google = scope.google || {};\n",
              "scope.google.colab = scope.google.colab || {};\n",
              "scope.google.colab._files = {\n",
              "  _uploadFiles,\n",
              "  _uploadFilesContinue,\n",
              "};\n",
              "})(self);\n",
              "</script> "
            ]
          },
          "metadata": {}
        },
        {
          "output_type": "stream",
          "name": "stdout",
          "text": [
            "Saving paper1.pdf to paper1.pdf\n",
            "Saving paper2.pdf to paper2.pdf\n",
            "Saving paper3.pdf to paper3.pdf\n",
            "Uploaded: ['paper1.pdf', 'paper2.pdf', 'paper3.pdf']\n"
          ]
        }
      ],
      "source": [
        "\n",
        "try:\n",
        "    from google.colab import files\n",
        "    up = files.upload()\n",
        "    import os\n",
        "    os.makedirs(\"data\", exist_ok=True)\n",
        "    for n,c in up.items():\n",
        "        open(os.path.join(\"data\", n), \"wb\").write(c)\n",
        "    print(\"Uploaded:\", list(up.keys()))\n",
        "except Exception as e:\n",
        "    print(\"Colab upload UI not available.\", e)\n"
      ]
    },
    {
      "cell_type": "markdown",
      "metadata": {
        "id": "YT1OdpGO0izN"
      },
      "source": [
        "### 5) Load & chunk"
      ]
    },
    {
      "cell_type": "code",
      "metadata": {
        "colab": {
          "base_uri": "https://localhost:8080/"
        },
        "id": "7AA1qLdY0izN",
        "outputId": "c69bfe26-b1d2-4659-c06b-4ea9c831c2b5"
      },
      "execution_count": null,
      "outputs": [
        {
          "output_type": "stream",
          "name": "stderr",
          "text": [
            "WARNING:pypdf._reader:Ignoring wrong pointing object 6 0 (offset 0)\n",
            "WARNING:pypdf._reader:Ignoring wrong pointing object 8 0 (offset 0)\n",
            "WARNING:pypdf._reader:Ignoring wrong pointing object 10 0 (offset 0)\n",
            "WARNING:pypdf._reader:Ignoring wrong pointing object 16 0 (offset 0)\n",
            "WARNING:pypdf._reader:Ignoring wrong pointing object 21 0 (offset 0)\n",
            "WARNING:pypdf._reader:Ignoring wrong pointing object 23 0 (offset 0)\n",
            "WARNING:pypdf._reader:Ignoring wrong pointing object 25 0 (offset 0)\n",
            "WARNING:pypdf._reader:Ignoring wrong pointing object 33 0 (offset 0)\n",
            "WARNING:pypdf._reader:Ignoring wrong pointing object 35 0 (offset 0)\n",
            "WARNING:pypdf._reader:Ignoring wrong pointing object 47 0 (offset 0)\n",
            "WARNING:pypdf._reader:Ignoring wrong pointing object 49 0 (offset 0)\n",
            "WARNING:pypdf._reader:Ignoring wrong pointing object 114 0 (offset 0)\n",
            "WARNING:pypdf._reader:Ignoring wrong pointing object 123 0 (offset 0)\n"
          ]
        },
        {
          "output_type": "stream",
          "name": "stdout",
          "text": [
            "Loaded 97\n",
            "Chunks: 667\n",
            "When AI Meets Finance (StockAgent): Large Language\n",
            "Model-based Stock Trading in Simulated Real-world\n",
            "Environments\n",
            "CHONG ZHANG∗, University of Liverpool, UK\n",
            "XINYI LIU∗, Peking University, China\n",
            "ZHONGMOU ZHANG∗, Shanghai University of Finance and Economics, China\n",
            "MINGYU JIN, Rutgers University, USA\n",
            "LINGYAO LI,University of Michigan, USA\n",
            "ZHENTING WANG, Rutgers University, USA\n",
            "WENYUE HUA, Rutgers Univ\n"
          ]
        }
      ],
      "source": [
        "\n",
        "import os\n",
        "def load_docs(folder=\"data\"):\n",
        "    docs=[]\n",
        "    for fname in os.listdir(folder):\n",
        "        p=os.path.join(folder,fname)\n",
        "        if not os.path.isfile(p): continue\n",
        "        ext=fname.lower().split(\".\")[-1]\n",
        "        try:\n",
        "            if ext==\"pdf\": loader=PyPDFLoader(p)\n",
        "            elif ext in [\"txt\",\"md\",\"markdown\"]: loader=TextLoader(p, encoding=\"utf-8\")\n",
        "            else:\n",
        "                print(\"Skip\", fname); continue\n",
        "            docs += loader.load()\n",
        "        except Exception as e:\n",
        "            print(\"Fail\", fname, e)\n",
        "    return docs\n",
        "raw_docs=load_docs(\"data\")\n",
        "print(\"Loaded\", len(raw_docs))\n",
        "splitter=RecursiveCharacterTextSplitter(chunk_size=500, chunk_overlap=100)\n",
        "splits=splitter.split_documents(raw_docs)\n",
        "print(\"Chunks:\", len(splits))\n",
        "if splits: print(splits[0].page_content[:400])\n",
        "rag_run_config={\"chunk_size\":500,\"chunk_overlap\":100,\"embedding_models_tested\":[],\"llm\":None,\"retriever_k\":4}\n",
        "import json\n",
        "json.dump(rag_run_config, open(\"rag_run_config.json\",\"w\"), indent=2)\n"
      ]
    },
    {
      "cell_type": "markdown",
      "metadata": {
        "id": "hi9zjOgi0izN"
      },
      "source": [
        "### 6) Vector DB (Chroma) + baseline embeddings"
      ]
    },
    {
      "cell_type": "code",
      "metadata": {
        "colab": {
          "base_uri": "https://localhost:8080/",
          "height": 585,
          "referenced_widgets": [
            "6d3debebdf734647ac907dcd1c55098c",
            "4a79c86339e34e7db9b669e84c7dd3ad",
            "a330ec7f754d403e9aeaf0cd8d730f43",
            "8754486c6ad84f66a95924d72eaad4df",
            "9a9d7cd2abc04b8ca4ab8617643bee0f",
            "e6f4451f1ba74ab28ddab5e2262bde47",
            "0bdfb2133bb34bf0b7beb947aa833289",
            "3f986a2463d44f51b46c8e7b6e17840a",
            "e3fcee3b981f4027a0fd1df4e2d7d798",
            "4bf498a9ac0d4f85b3be63fbfd5e43b7",
            "9afb16ae70964768b9f9de870040d919",
            "2b884da279194d1bbc19d629ae1b5870",
            "707849b00e3349b79961dc0f0ba406fa",
            "d8541604373d4372b8bf08a165ff32fb",
            "315a5a26a0a644b69c09d3fe7c10c45d",
            "490a22a332174f02a0b567a27d59809f",
            "d44e967c11ff417baf3a00ccdd868779",
            "dac26e52cc8d4f0380c97933602e1fef",
            "8c26caa00a6a476ba7ff14d24ae522f9",
            "4b8e1054d77c4f2cb4d9f08155aa89a8",
            "adeca406b4be480b9d80e636b9e6bf09",
            "aab5f19b445e48479f1862e889b15675",
            "9b91d46cf2ad4ecea1df0ba354086565",
            "43762b705ee94a7d8e5adbfb5c2f0b0e",
            "ecebe10f37dc47aa9613010cca618c77",
            "835cce08cb034eb3b0a5c30f128f4984",
            "db35bce3cd1142e0903a00d2d40987d5",
            "f93e13ec43a04db6b6826a9d62fbf5d0",
            "afd7bfbc33134c5ab4386e83c2fe0a94",
            "114246cc8d154196bd2df8c531733c41",
            "41d42c96e7724fe3968f6a1be8cd0b53",
            "4978a4de8eab4a88873cdb663cb832bf",
            "d9eaf1774ba54204b3489a2b3b247979",
            "479262c82f234c47b13c3674b7806430",
            "f44b08134b394ee7834d5168008e3d60",
            "88b87240b4b547958b89ffef4a4ec987",
            "20c5e25e4a2040c6b7df5882b93cbd58",
            "5f9cb124922747cfb5b404dfcc5eebb0",
            "b7af003e244a49d08c259d67d08c0e9d",
            "2864b916606d4bf89dcc576fbe84d805",
            "3591855385b34885b9cc5741d4f565b1",
            "4c1b1e25756346a584bd5047ae626f91",
            "fafa25cc14144d0884fee2862598780f",
            "91c282e1b98445d086dca24483516a4c",
            "c9f2ba5b7b0e4a749ab62299707ab938",
            "0488fc9418fc4f048b82c244b7a94665",
            "a65de2a955e441f998308ef2094ee351",
            "1b87b89694774a429a1a66b123d03e2e",
            "748970c490bd41c89d2aaf085aae971e",
            "29e698924a9141f9979653280ec394bc",
            "f4eadd25142b4a4bb66e6754e0dd5e30",
            "d4d0136c86f9457b84bbb4d2c38eb9af",
            "3b580b5fd5b94685a5bb4feefdffd58e",
            "eda775a22252462e815900feaa81c4ca",
            "8a00f99ae783437a91783a5de7ee0f55",
            "add314ef5173491881d6d46bd2e745de",
            "3e0d18e8aba943b3b3ff0cdce230386e",
            "7628663f16cb428685feaba8ef80cc23",
            "b44ace58202b4d03979a8fd5866310c8",
            "0a3d2e51a2554739a25931e09838787c",
            "38c811f0d463454abff339864405b19f",
            "887ca2ddd7c341558145db3877c9256c",
            "e4f6a9d1ced84fda91e4a922df847987",
            "0cfad9c4620d45038bd11fe0f9c6757c",
            "f7b32f9204a6408596227d40fe2ce4fc",
            "2e8b55c68f854f5cbc237c730563193d",
            "7bd1a4eb687940579f240c964add80f0",
            "5fa4db59eee54cf8a90cd5bfff519594",
            "c51279c83b73433388646288fb525c19",
            "98e59fb4e52a4ba49f1b9d326b3d276f",
            "854b997bc6ad450992677bdb92b5a079",
            "25ea4226b14944e7a1c73fbaf0542180",
            "896ae8d63dfa4d9cad4e8443289f3010",
            "f7d84cafc0ce466bb844f863ccf02f18",
            "aadf1054e0f14eca99f531c6aedc5738",
            "39d87e94931446348fc2cce58ee9f8d6",
            "d1f52f374ee0405cb2c9bf00e55aa1ea",
            "182ac76bcf60413b9e9321f879ad421b",
            "5aa7c8b901574825825b6c41f16d4cc3",
            "02889209b1ed4f7a8ceaf7f67676f685",
            "2d9061d3175f4e148ecf301bbb030fb6",
            "60563824f8204d2aaed1625931571202",
            "7950d9d2713a4ed487db54a88096a4b1",
            "57b45594e43d4c4bb8db6bd8164de891",
            "57c80b36bc7846468706eed0a2daee60",
            "147d1448e4bb4118a033825eb50e1983",
            "55690400054644af88e17438e14efbc5",
            "bac5577ae8ce44db8c3f7b1c337928ab",
            "dec984ab42e445528ce4becf9c7a3faa",
            "d663855dac774d1a9fc05de1f31bb4d0",
            "09a6b6f2ffaa48caac941549e580393f",
            "03f843ccafaf49b08de588af1319a1f7",
            "104669dd003a405092006ab916557442",
            "d456b52a16064833992c1849e9706490",
            "22f0203326c347b5be7bde0a496dca56",
            "19bdf3d0c7bb4275b42f6127be2daa27",
            "034e02b7f7114e57a5eef63680502342",
            "b8902c8bbb454157aeced7243dd7177e",
            "7a255efbd4e040e3acbdf7425f132589",
            "f4f7055d8cc74dd69c7261d978589f7d",
            "8ddebe66586e4037b3c4442124e0cf98",
            "bf4ceb7681d04c9b95598d73ab19ac49",
            "75aa8944d65a4b3c8398dd5fbd54f268",
            "5540111b95c94d659ef47c921cc474c4",
            "32f732f08bb2476bbe2437d71d9ce2ed",
            "bdd4cb6be4dc4adead679f3798d9f5a7",
            "418737695ba54eac97fbc1c95c4dc510",
            "06fb8b9f50fc4bf89ab0e1b38cd60143",
            "f3b40a177fe443e9a731b8e81d5cc89f",
            "9246aefe8794486b83d420c7fda250aa",
            "de76c108429540cf8f193ea0c2d4480a",
            "4fac1b95eb1541eb9c847ee1d2daadf2",
            "f4ecc337db65480e85e8488dc3b67ae4",
            "41f6c0bae46542218283a8aba42fab24",
            "d6d55217fc3a4923a8fedd47b91bf9ce",
            "e2fe3cb2f3f242e28d8a5035703c0ccc",
            "ff68a0d10b8c46ae96c12283d5e974ca",
            "0beb848627ac4d11b78aed7d813e11d8",
            "7fb35434ec344cec9d684e3de1b69bb2",
            "512077358a34489ca32c2524c679f5a9",
            "7f3d5715f0004158a98cbaf1b34c495f"
          ]
        },
        "id": "tpH84RJ60izO",
        "outputId": "f1513db3-3516-4821-a9ba-b22a0ee80b30"
      },
      "execution_count": null,
      "outputs": [
        {
          "output_type": "stream",
          "name": "stderr",
          "text": [
            "/tmp/ipython-input-1341119953.py:3: LangChainDeprecationWarning: The class `HuggingFaceEmbeddings` was deprecated in LangChain 0.2.2 and will be removed in 1.0. An updated version of the class exists in the :class:`~langchain-huggingface package and should be used instead. To use it run `pip install -U :class:`~langchain-huggingface` and import as `from :class:`~langchain_huggingface import HuggingFaceEmbeddings``.\n",
            "  emb = SentenceTransformerEmbeddings(model_name=\"sentence-transformers/all-MiniLM-L6-v2\")\n",
            "/usr/local/lib/python3.12/dist-packages/huggingface_hub/utils/_auth.py:94: UserWarning: \n",
            "The secret `HF_TOKEN` does not exist in your Colab secrets.\n",
            "To authenticate with the Hugging Face Hub, create a token in your settings tab (https://huggingface.co/settings/tokens), set it as secret in your Google Colab and restart your session.\n",
            "You will be able to reuse this secret in all of your notebooks.\n",
            "Please note that authentication is recommended but still optional to access public models or datasets.\n",
            "  warnings.warn(\n"
          ]
        },
        {
          "output_type": "display_data",
          "data": {
            "text/plain": [
              "modules.json:   0%|          | 0.00/349 [00:00<?, ?B/s]"
            ],
            "application/vnd.jupyter.widget-view+json": {
              "version_major": 2,
              "version_minor": 0,
              "model_id": "6d3debebdf734647ac907dcd1c55098c"
            }
          },
          "metadata": {}
        },
        {
          "output_type": "display_data",
          "data": {
            "text/plain": [
              "config_sentence_transformers.json:   0%|          | 0.00/116 [00:00<?, ?B/s]"
            ],
            "application/vnd.jupyter.widget-view+json": {
              "version_major": 2,
              "version_minor": 0,
              "model_id": "2b884da279194d1bbc19d629ae1b5870"
            }
          },
          "metadata": {}
        },
        {
          "output_type": "display_data",
          "data": {
            "text/plain": [
              "README.md: 0.00B [00:00, ?B/s]"
            ],
            "application/vnd.jupyter.widget-view+json": {
              "version_major": 2,
              "version_minor": 0,
              "model_id": "9b91d46cf2ad4ecea1df0ba354086565"
            }
          },
          "metadata": {}
        },
        {
          "output_type": "display_data",
          "data": {
            "text/plain": [
              "sentence_bert_config.json:   0%|          | 0.00/53.0 [00:00<?, ?B/s]"
            ],
            "application/vnd.jupyter.widget-view+json": {
              "version_major": 2,
              "version_minor": 0,
              "model_id": "479262c82f234c47b13c3674b7806430"
            }
          },
          "metadata": {}
        },
        {
          "output_type": "display_data",
          "data": {
            "text/plain": [
              "config.json:   0%|          | 0.00/612 [00:00<?, ?B/s]"
            ],
            "application/vnd.jupyter.widget-view+json": {
              "version_major": 2,
              "version_minor": 0,
              "model_id": "c9f2ba5b7b0e4a749ab62299707ab938"
            }
          },
          "metadata": {}
        },
        {
          "output_type": "display_data",
          "data": {
            "text/plain": [
              "model.safetensors:   0%|          | 0.00/90.9M [00:00<?, ?B/s]"
            ],
            "application/vnd.jupyter.widget-view+json": {
              "version_major": 2,
              "version_minor": 0,
              "model_id": "add314ef5173491881d6d46bd2e745de"
            }
          },
          "metadata": {}
        },
        {
          "output_type": "display_data",
          "data": {
            "text/plain": [
              "tokenizer_config.json:   0%|          | 0.00/350 [00:00<?, ?B/s]"
            ],
            "application/vnd.jupyter.widget-view+json": {
              "version_major": 2,
              "version_minor": 0,
              "model_id": "7bd1a4eb687940579f240c964add80f0"
            }
          },
          "metadata": {}
        },
        {
          "output_type": "display_data",
          "data": {
            "text/plain": [
              "vocab.txt: 0.00B [00:00, ?B/s]"
            ],
            "application/vnd.jupyter.widget-view+json": {
              "version_major": 2,
              "version_minor": 0,
              "model_id": "182ac76bcf60413b9e9321f879ad421b"
            }
          },
          "metadata": {}
        },
        {
          "output_type": "display_data",
          "data": {
            "text/plain": [
              "tokenizer.json: 0.00B [00:00, ?B/s]"
            ],
            "application/vnd.jupyter.widget-view+json": {
              "version_major": 2,
              "version_minor": 0,
              "model_id": "dec984ab42e445528ce4becf9c7a3faa"
            }
          },
          "metadata": {}
        },
        {
          "output_type": "display_data",
          "data": {
            "text/plain": [
              "special_tokens_map.json:   0%|          | 0.00/112 [00:00<?, ?B/s]"
            ],
            "application/vnd.jupyter.widget-view+json": {
              "version_major": 2,
              "version_minor": 0,
              "model_id": "f4f7055d8cc74dd69c7261d978589f7d"
            }
          },
          "metadata": {}
        },
        {
          "output_type": "display_data",
          "data": {
            "text/plain": [
              "config.json:   0%|          | 0.00/190 [00:00<?, ?B/s]"
            ],
            "application/vnd.jupyter.widget-view+json": {
              "version_major": 2,
              "version_minor": 0,
              "model_id": "de76c108429540cf8f193ea0c2d4480a"
            }
          },
          "metadata": {}
        },
        {
          "output_type": "stream",
          "name": "stdout",
          "text": [
            "Vector store ready.\n"
          ]
        },
        {
          "output_type": "stream",
          "name": "stderr",
          "text": [
            "/tmp/ipython-input-1341119953.py:5: LangChainDeprecationWarning: Since Chroma 0.4.x the manual persistence method is no longer supported as docs are automatically persisted.\n",
            "  vs.persist()\n"
          ]
        }
      ],
      "source": [
        "\n",
        "from langchain_community.embeddings import SentenceTransformerEmbeddings\n",
        "from langchain_community.vectorstores import Chroma\n",
        "emb = SentenceTransformerEmbeddings(model_name=\"sentence-transformers/all-MiniLM-L6-v2\")\n",
        "vs = Chroma.from_documents(splits, embedding=emb, persist_directory=\"./chroma_minilm\")\n",
        "vs.persist()\n",
        "retriever = vs.as_retriever(search_kwargs={\"k\":4})\n",
        "print(\"Vector store ready.\")\n",
        "cfg=json.load(open(\"rag_run_config.json\"))\n",
        "cfg[\"embedding_models_tested\"].append(\"sentence-transformers/all-MiniLM-L6-v2\")\n",
        "json.dump(cfg, open(\"rag_run_config.json\",\"w\"), indent=2)\n"
      ]
    },
    {
      "cell_type": "markdown",
      "metadata": {
        "id": "Sbk_9jjK0izO"
      },
      "source": [
        "### 7) RetrievalQA with Gemini"
      ]
    },
    {
      "cell_type": "code",
      "metadata": {
        "colab": {
          "base_uri": "https://localhost:8080/"
        },
        "id": "-HcFFciu0izO",
        "outputId": "56301be0-00dd-4bf2-ebac-8b5845457de9"
      },
      "execution_count": null,
      "outputs": [
        {
          "output_type": "stream",
          "name": "stderr",
          "text": [
            "/tmp/ipython-input-94959022.py:4: LangChainDeprecationWarning: The method `Chain.__call__` was deprecated in langchain 0.1.0 and will be removed in 1.0. Use :meth:`~invoke` instead.\n",
            "  r=qa({\"query\":q})\n"
          ]
        },
        {
          "output_type": "stream",
          "name": "stdout",
          "text": [
            "\n",
            "Q: What are the main findings relevant to our project domain?\n",
            "A: Based on the provided text, the main findings relevant to a project domain likely involving market analysis, trading, or AI systems are:\n",
            "\n",
            "1.  **Market Sentiment & Activity:** There are mixed reactions in the business community, with tech executives optimistic about potential deregulation and increased innovation leading to more spending and dealmaking.\n",
            "2.  **Structured Market Analysis Process:** A two-tiered team approach is used for market analysis:\n",
            "    *   An **Analyst Team** synthesizes data from multiple sources for holistic market analysis.\n",
            "    *   A **Researcher Team** critically evaluates this information, comprising agents with both bullish and bearish perspectives.\n",
            "3.  **Explainable AI Systems:** There is a focus on creating explainable AI systems where decisions are supported by evidence and are transparent.\n",
            "4.  **Opportunities for Technical Analysis:** Future work includes performing more technical analysis by employing different trading strategies and in-depth research on indicators such as Moving Average, Relative Strength Index, and Bollinger Bands under various market conditions.\n",
            "\n",
            "Sources:\n",
            "[1] data/paper2.pdf :: creating mixed reactions in the business community . Some tech executives are optimistic about potential deregulation and increased innovation , which could lea...\n",
            "[2] data/paper2.pdf :: Collectively, the Analyst Team synthesizes data from multiple sources to provide a holistic market analysis. Their combined insights form the foundational input...\n",
            "[3] data/paper2.pdf :: works create explainable AI systems, where decisions are supported by evidence and transparent *Tauric Research Organization: https://tauric.ai...\n"
          ]
        }
      ],
      "source": [
        "\n",
        "llm = ChatGoogleGenerativeAI(model=\"gemini-2.5-flash\", temperature=0.2)\n",
        "qa = RetrievalQA.from_chain_type(llm=llm, chain_type=\"stuff\", retriever=retriever, return_source_documents=True)\n",
        "def ask(q):\n",
        "    r=qa({\"query\":q})\n",
        "    print(\"\\nQ:\", q); print(\"A:\", r.get(\"result\",\"\"))\n",
        "    print(\"\\nSources:\")\n",
        "    for i,d in enumerate(r.get(\"source_documents\",[])[:3]):\n",
        "        print(f\"[{i+1}] {d.metadata.get('source','?')} ::\", d.page_content[:160].replace(\"\\n\",\" \")+\"...\")\n",
        "ask(\"What are the main findings relevant to our project domain?\")\n"
      ]
    },
    {
      "cell_type": "markdown",
      "metadata": {
        "id": "awclAybT0izO"
      },
      "source": [
        "### 8) Mini-experiments (embedding swap & chunk sensitivity) — optional"
      ]
    },
    {
      "cell_type": "code",
      "metadata": {
        "id": "p7iFsr9_0izO",
        "colab": {
          "base_uri": "https://localhost:8080/"
        },
        "outputId": "ed0e2a8e-45e0-4cb4-e30f-2445fa1ebb5d"
      },
      "execution_count": null,
      "outputs": [
        {
          "output_type": "stream",
          "name": "stdout",
          "text": [
            "Gemini Embeddings: {'query': 'What is the main contribution of paper1?', 'result': \"I'm sorry, but the provided text does not contain information about the main contribution of the paper. It includes licensing details, publication status, author affiliations, and a disclaimer, but no summary of the paper's content or contributions.\"}\n",
            "MiniLM Embeddings: {'query': 'What is the main contribution of paper1?', 'result': 'I\\'m sorry, but the provided context does not contain any information about \"paper1\" or its main contribution. The text describes types of documents from an Analyst Team and Traders, and lists a series of names.'}\n"
          ]
        }
      ],
      "source": [
        "from langchain.text_splitter import RecursiveCharacterTextSplitter\n",
        "from langchain_google_genai import GoogleGenerativeAIEmbeddings\n",
        "from langchain_community.embeddings import SentenceTransformerEmbeddings\n",
        "from langchain_community.vectorstores import Chroma\n",
        "from langchain.chains import RetrievalQA\n",
        "from langchain_google_genai import ChatGoogleGenerativeAI\n",
        "\n",
        "# Split papers\n",
        "splitter = RecursiveCharacterTextSplitter(chunk_size=500, chunk_overlap=100)\n",
        "chunks = splitter.split_documents(raw_docs)\n",
        "\n",
        "# Embeddings\n",
        "g_emb = GoogleGenerativeAIEmbeddings(model=\"models/text-embedding-004\")   # Gemini\n",
        "mini_emb = SentenceTransformerEmbeddings(model_name=\"sentence-transformers/all-MiniLM-L6-v2\")  # free\n",
        "\n",
        "# Chroma DBs\n",
        "db_g = Chroma.from_documents(chunks, g_emb, persist_directory=\"chroma_gemini\")\n",
        "db_m = Chroma.from_documents(chunks, mini_emb, persist_directory=\"chroma_minilm\")\n",
        "\n",
        "# Retriever + QA\n",
        "llm = ChatGoogleGenerativeAI(model=\"gemini-2.5-flash\", temperature=0.2)\n",
        "\n",
        "qa_g = RetrievalQA.from_chain_type(llm=llm, retriever=db_g.as_retriever(), chain_type=\"stuff\")\n",
        "qa_m = RetrievalQA.from_chain_type(llm=llm, retriever=db_m.as_retriever(), chain_type=\"stuff\")\n",
        "\n",
        "print(\"Gemini Embeddings:\", qa_g.invoke({\"query\":\"What is the main contribution of paper1?\"}))\n",
        "print(\"MiniLM Embeddings:\", qa_m.invoke({\"query\":\"What is the main contribution of paper1?\"}))\n"
      ]
    },
    {
      "cell_type": "code",
      "source": [
        "# Small chunks\n",
        "small = RecursiveCharacterTextSplitter(chunk_size=300, chunk_overlap=50).split_documents(raw_docs)\n",
        "\n",
        "# Build DBs with same embeddings (use MiniLM here to save API quota)\n",
        "db_500 = Chroma.from_documents(chunks, mini_emb, persist_directory=\"chroma_minilm_500\")\n",
        "db_300 = Chroma.from_documents(small, mini_emb, persist_directory=\"chroma_minilm_300\")\n",
        "\n",
        "qa_500 = RetrievalQA.from_chain_type(llm=llm, retriever=db_500.as_retriever(), chain_type=\"stuff\")\n",
        "qa_300 = RetrievalQA.from_chain_type(llm=llm, retriever=db_300.as_retriever(), chain_type=\"stuff\")\n",
        "\n",
        "print(\"500-chunks:\", qa_500.invoke({\"query\":\"Summarize paper2 in one sentence.\"}))\n",
        "print(\"300-chunks:\", qa_300.invoke({\"query\":\"Summarize paper2 in one sentence.\"}))\n"
      ],
      "metadata": {
        "colab": {
          "base_uri": "https://localhost:8080/"
        },
        "id": "HWoAkJOCSGMJ",
        "outputId": "dfbf6e7f-3513-4a5f-b13f-0d8a1f116ed4"
      },
      "execution_count": null,
      "outputs": [
        {
          "output_type": "stream",
          "name": "stdout",
          "text": [
            "500-chunks: {'query': 'Summarize paper2 in one sentence.', 'result': 'I\\'m sorry, but the provided text does not label the papers as \"paper1,\" \"paper2,\" etc., nor does it provide summaries for them. Therefore, I cannot summarize \"paper2.\"'}\n",
            "300-chunks: {'query': 'Summarize paper2 in one sentence.', 'result': 'Paper 2, authored by Andres Alonso-Robisco and José Manuel Carbó in 2023, analyzes the narrative surrounding Central Bank Digital Currencies (CBDC) by central banks using large language models.'}\n"
          ]
        }
      ]
    }
  ]
}